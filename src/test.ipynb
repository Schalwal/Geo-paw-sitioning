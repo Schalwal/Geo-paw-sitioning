{
 "cells": [
  {
   "cell_type": "code",
   "execution_count": 63,
   "metadata": {},
   "outputs": [],
   "source": [
    "import numpy as np\n",
    "import pandas as pd\n",
    "import geopandas as gpd\n",
    "from combine_csv import combine_csv\n",
    "from streamlit_folium import st_folium"
   ]
  },
  {
   "cell_type": "code",
   "execution_count": 24,
   "metadata": {},
   "outputs": [],
   "source": [
    "df = combine_csv(\"D:\\\\GitHub\\\\Geo-paw-sitioning\\\\1 Land Prices\\\\\")"
   ]
  },
  {
   "cell_type": "code",
   "execution_count": 58,
   "metadata": {},
   "outputs": [
    {
     "data": {
      "text/plain": [
       "Index(['Neighborhood_FID', 'AgriculturalArea', 'CommercialBuildingArea',\n",
       "       'Farmland', 'ForestryArea', 'GreenArea', 'IndustrialArea',\n",
       "       'MixedUseArea', 'OtherSpecialArea', 'Residential', 'SpecialUseArea',\n",
       "       'Village'],\n",
       "      dtype='object')"
      ]
     },
     "execution_count": 58,
     "metadata": {},
     "output_type": "execute_result"
    }
   ],
   "source": [
    "df_koeln = df.loc[df[\"City_Name\"] == \"Köln\"]\n",
    "df_koeln = df_koeln.drop(columns=['Land_Value', 'Area_Count', 'City_Name'])\n",
    "#df_koeln.head()\n",
    "#df_koeln.shape[0]\n",
    "df_koeln.columns"
   ]
  },
  {
   "cell_type": "code",
   "execution_count": 59,
   "metadata": {},
   "outputs": [
    {
     "data": {
      "text/plain": [
       "Index(['Neighborhood_FID', 'Land_Value', 'Area_Count', 'City_Name',\n",
       "       'geometry'],\n",
       "      dtype='object')"
      ]
     },
     "execution_count": 59,
     "metadata": {},
     "output_type": "execute_result"
    }
   ],
   "source": [
    "gdf_koeln = gpd.read_file(\"D:\\\\GitHub\\\\Geo-paw-sitioning\\\\1 Land Prices\\\\Land_Prices_Neighborhood_Köln.gpkg\")\n",
    "gdf_koeln = gdf_koeln.drop(columns = ['Area_Types'])\n",
    "#gdf_koeln.head()\n",
    "#gdf_koeln.shape[0]\n",
    "gdf_koeln.columns"
   ]
  },
  {
   "cell_type": "code",
   "execution_count": 61,
   "metadata": {},
   "outputs": [
    {
     "data": {
      "text/html": [
       "<div>\n",
       "<style scoped>\n",
       "    .dataframe tbody tr th:only-of-type {\n",
       "        vertical-align: middle;\n",
       "    }\n",
       "\n",
       "    .dataframe tbody tr th {\n",
       "        vertical-align: top;\n",
       "    }\n",
       "\n",
       "    .dataframe thead th {\n",
       "        text-align: right;\n",
       "    }\n",
       "</style>\n",
       "<table border=\"1\" class=\"dataframe\">\n",
       "  <thead>\n",
       "    <tr style=\"text-align: right;\">\n",
       "      <th></th>\n",
       "      <th>Neighborhood_FID</th>\n",
       "      <th>Land_Value</th>\n",
       "      <th>Area_Count</th>\n",
       "      <th>City_Name</th>\n",
       "      <th>geometry</th>\n",
       "      <th>AgriculturalArea</th>\n",
       "      <th>CommercialBuildingArea</th>\n",
       "      <th>Farmland</th>\n",
       "      <th>ForestryArea</th>\n",
       "      <th>GreenArea</th>\n",
       "      <th>IndustrialArea</th>\n",
       "      <th>MixedUseArea</th>\n",
       "      <th>OtherSpecialArea</th>\n",
       "      <th>Residential</th>\n",
       "      <th>SpecialUseArea</th>\n",
       "      <th>Village</th>\n",
       "    </tr>\n",
       "  </thead>\n",
       "  <tbody>\n",
       "    <tr>\n",
       "      <th>0</th>\n",
       "      <td>1</td>\n",
       "      <td>788.8</td>\n",
       "      <td>25</td>\n",
       "      <td>Köln</td>\n",
       "      <td>MULTIPOLYGON (((4113844.607 3091245.039, 41138...</td>\n",
       "      <td>0</td>\n",
       "      <td>0</td>\n",
       "      <td>1</td>\n",
       "      <td>0</td>\n",
       "      <td>1</td>\n",
       "      <td>0</td>\n",
       "      <td>0</td>\n",
       "      <td>0</td>\n",
       "      <td>1</td>\n",
       "      <td>1</td>\n",
       "      <td>0</td>\n",
       "    </tr>\n",
       "    <tr>\n",
       "      <th>1</th>\n",
       "      <td>2</td>\n",
       "      <td>874.9</td>\n",
       "      <td>32</td>\n",
       "      <td>Köln</td>\n",
       "      <td>MULTIPOLYGON (((4100028.083 3096909.048, 41000...</td>\n",
       "      <td>0</td>\n",
       "      <td>0</td>\n",
       "      <td>1</td>\n",
       "      <td>1</td>\n",
       "      <td>1</td>\n",
       "      <td>0</td>\n",
       "      <td>1</td>\n",
       "      <td>1</td>\n",
       "      <td>1</td>\n",
       "      <td>1</td>\n",
       "      <td>0</td>\n",
       "    </tr>\n",
       "    <tr>\n",
       "      <th>2</th>\n",
       "      <td>3</td>\n",
       "      <td>468.4</td>\n",
       "      <td>18</td>\n",
       "      <td>Köln</td>\n",
       "      <td>MULTIPOLYGON (((4099966.963 3100961.966, 40999...</td>\n",
       "      <td>0</td>\n",
       "      <td>0</td>\n",
       "      <td>1</td>\n",
       "      <td>1</td>\n",
       "      <td>1</td>\n",
       "      <td>0</td>\n",
       "      <td>1</td>\n",
       "      <td>0</td>\n",
       "      <td>1</td>\n",
       "      <td>1</td>\n",
       "      <td>0</td>\n",
       "    </tr>\n",
       "    <tr>\n",
       "      <th>3</th>\n",
       "      <td>4</td>\n",
       "      <td>286.0</td>\n",
       "      <td>25</td>\n",
       "      <td>Köln</td>\n",
       "      <td>MULTIPOLYGON (((4111198.584 3102570.697, 41112...</td>\n",
       "      <td>1</td>\n",
       "      <td>0</td>\n",
       "      <td>1</td>\n",
       "      <td>0</td>\n",
       "      <td>1</td>\n",
       "      <td>0</td>\n",
       "      <td>0</td>\n",
       "      <td>0</td>\n",
       "      <td>1</td>\n",
       "      <td>1</td>\n",
       "      <td>0</td>\n",
       "    </tr>\n",
       "    <tr>\n",
       "      <th>4</th>\n",
       "      <td>5</td>\n",
       "      <td>652.8</td>\n",
       "      <td>20</td>\n",
       "      <td>Köln</td>\n",
       "      <td>MULTIPOLYGON (((4112305.385 3102700.016, 41123...</td>\n",
       "      <td>0</td>\n",
       "      <td>0</td>\n",
       "      <td>1</td>\n",
       "      <td>1</td>\n",
       "      <td>0</td>\n",
       "      <td>0</td>\n",
       "      <td>0</td>\n",
       "      <td>0</td>\n",
       "      <td>1</td>\n",
       "      <td>1</td>\n",
       "      <td>0</td>\n",
       "    </tr>\n",
       "  </tbody>\n",
       "</table>\n",
       "</div>"
      ],
      "text/plain": [
       "   Neighborhood_FID  Land_Value  Area_Count City_Name   \n",
       "0                 1       788.8          25      Köln  \\\n",
       "1                 2       874.9          32      Köln   \n",
       "2                 3       468.4          18      Köln   \n",
       "3                 4       286.0          25      Köln   \n",
       "4                 5       652.8          20      Köln   \n",
       "\n",
       "                                            geometry  AgriculturalArea   \n",
       "0  MULTIPOLYGON (((4113844.607 3091245.039, 41138...                 0  \\\n",
       "1  MULTIPOLYGON (((4100028.083 3096909.048, 41000...                 0   \n",
       "2  MULTIPOLYGON (((4099966.963 3100961.966, 40999...                 0   \n",
       "3  MULTIPOLYGON (((4111198.584 3102570.697, 41112...                 1   \n",
       "4  MULTIPOLYGON (((4112305.385 3102700.016, 41123...                 0   \n",
       "\n",
       "   CommercialBuildingArea  Farmland  ForestryArea  GreenArea  IndustrialArea   \n",
       "0                       0         1             0          1               0  \\\n",
       "1                       0         1             1          1               0   \n",
       "2                       0         1             1          1               0   \n",
       "3                       0         1             0          1               0   \n",
       "4                       0         1             1          0               0   \n",
       "\n",
       "   MixedUseArea  OtherSpecialArea  Residential  SpecialUseArea  Village  \n",
       "0             0                 0            1               1        0  \n",
       "1             1                 1            1               1        0  \n",
       "2             1                 0            1               1        0  \n",
       "3             0                 0            1               1        0  \n",
       "4             0                 0            1               1        0  "
      ]
     },
     "execution_count": 61,
     "metadata": {},
     "output_type": "execute_result"
    }
   ],
   "source": [
    "#df_koeln.join(gdf_koeln.set_index('Neighborhood_FID'), on='Neighborhood_FID')\n",
    "df_koeln = gdf_koeln.merge(df_koeln, on='Neighborhood_FID')\n",
    "#df_koeln = pd.concat([df_koeln, gdf_koeln], axis=0, join=\"inner\")\n",
    "df_koeln.head()"
   ]
  },
  {
   "cell_type": "code",
   "execution_count": null,
   "metadata": {},
   "outputs": [],
   "source": []
  }
 ],
 "metadata": {
  "kernelspec": {
   "display_name": "Python 3",
   "language": "python",
   "name": "python3"
  },
  "language_info": {
   "codemirror_mode": {
    "name": "ipython",
    "version": 3
   },
   "file_extension": ".py",
   "mimetype": "text/x-python",
   "name": "python",
   "nbconvert_exporter": "python",
   "pygments_lexer": "ipython3",
   "version": "3.10.11"
  },
  "orig_nbformat": 4
 },
 "nbformat": 4,
 "nbformat_minor": 2
}
