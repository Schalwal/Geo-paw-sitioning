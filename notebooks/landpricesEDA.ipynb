{
 "cells": [
  {
   "cell_type": "code",
   "execution_count": 1,
   "metadata": {},
   "outputs": [],
   "source": [
    "import pandas as pd\n"
   ]
  },
  {
   "cell_type": "code",
   "execution_count": 4,
   "metadata": {},
   "outputs": [],
   "source": [
    "df = pd.read_csv(\n",
    "    \"../res/data/DLRprovided/1 Land Prices/Land_Prices_Neighborhood_Berlin.csv\", sep=\";\"\n",
    ")\n"
   ]
  },
  {
   "cell_type": "code",
   "execution_count": 5,
   "metadata": {},
   "outputs": [
    {
     "data": {
      "text/html": [
       "<div>\n",
       "<style scoped>\n",
       "    .dataframe tbody tr th:only-of-type {\n",
       "        vertical-align: middle;\n",
       "    }\n",
       "\n",
       "    .dataframe tbody tr th {\n",
       "        vertical-align: top;\n",
       "    }\n",
       "\n",
       "    .dataframe thead th {\n",
       "        text-align: right;\n",
       "    }\n",
       "</style>\n",
       "<table border=\"1\" class=\"dataframe\">\n",
       "  <thead>\n",
       "    <tr style=\"text-align: right;\">\n",
       "      <th></th>\n",
       "      <th>Unnamed: 0</th>\n",
       "      <th>Neighborhood_FID</th>\n",
       "      <th>Land_Value</th>\n",
       "      <th>Area_Types</th>\n",
       "      <th>Area_Count</th>\n",
       "      <th>City_Name</th>\n",
       "    </tr>\n",
       "  </thead>\n",
       "  <tbody>\n",
       "    <tr>\n",
       "      <th>0</th>\n",
       "      <td>0</td>\n",
       "      <td>1</td>\n",
       "      <td>9238.7</td>\n",
       "      <td>MixedUseArea_Residential_SpecialUseArea</td>\n",
       "      <td>37</td>\n",
       "      <td>Berlin</td>\n",
       "    </tr>\n",
       "    <tr>\n",
       "      <th>1</th>\n",
       "      <td>1</td>\n",
       "      <td>2</td>\n",
       "      <td>3658.7</td>\n",
       "      <td>CommercialBuildingArea_MixedUseArea_Residentia...</td>\n",
       "      <td>20</td>\n",
       "      <td>Berlin</td>\n",
       "    </tr>\n",
       "    <tr>\n",
       "      <th>2</th>\n",
       "      <td>2</td>\n",
       "      <td>3</td>\n",
       "      <td>2452.0</td>\n",
       "      <td>Residential</td>\n",
       "      <td>3</td>\n",
       "      <td>Berlin</td>\n",
       "    </tr>\n",
       "    <tr>\n",
       "      <th>3</th>\n",
       "      <td>3</td>\n",
       "      <td>4</td>\n",
       "      <td>7877.8</td>\n",
       "      <td>MixedUseArea_Residential_SpecialUseArea</td>\n",
       "      <td>15</td>\n",
       "      <td>Berlin</td>\n",
       "    </tr>\n",
       "    <tr>\n",
       "      <th>4</th>\n",
       "      <td>4</td>\n",
       "      <td>5</td>\n",
       "      <td>1726.8</td>\n",
       "      <td>CommercialBuildingArea_MixedUseArea_Residentia...</td>\n",
       "      <td>14</td>\n",
       "      <td>Berlin</td>\n",
       "    </tr>\n",
       "  </tbody>\n",
       "</table>\n",
       "</div>"
      ],
      "text/plain": [
       "   Unnamed: 0  Neighborhood_FID  Land_Value  \\\n",
       "0           0                 1      9238.7   \n",
       "1           1                 2      3658.7   \n",
       "2           2                 3      2452.0   \n",
       "3           3                 4      7877.8   \n",
       "4           4                 5      1726.8   \n",
       "\n",
       "                                          Area_Types  Area_Count City_Name  \n",
       "0            MixedUseArea_Residential_SpecialUseArea          37    Berlin  \n",
       "1  CommercialBuildingArea_MixedUseArea_Residentia...          20    Berlin  \n",
       "2                                        Residential           3    Berlin  \n",
       "3            MixedUseArea_Residential_SpecialUseArea          15    Berlin  \n",
       "4  CommercialBuildingArea_MixedUseArea_Residentia...          14    Berlin  "
      ]
     },
     "execution_count": 5,
     "metadata": {},
     "output_type": "execute_result"
    }
   ],
   "source": [
    "df.head()\n"
   ]
  },
  {
   "cell_type": "code",
   "execution_count": 8,
   "metadata": {},
   "outputs": [
    {
     "data": {
      "text/plain": [
       "0           [MixedUseArea, Residential, SpecialUseArea]\n",
       "1     [CommercialBuildingArea, MixedUseArea, Residen...\n",
       "2                                         [Residential]\n",
       "3           [MixedUseArea, Residential, SpecialUseArea]\n",
       "4     [CommercialBuildingArea, MixedUseArea, Residen...\n",
       "                            ...                        \n",
       "91                [CommercialBuildingArea, Residential]\n",
       "92                        [Residential, SpecialUseArea]\n",
       "93                [CommercialBuildingArea, Residential]\n",
       "94                [CommercialBuildingArea, Residential]\n",
       "95                                        [Residential]\n",
       "Name: Area_Types, Length: 96, dtype: object"
      ]
     },
     "execution_count": 8,
     "metadata": {},
     "output_type": "execute_result"
    }
   ],
   "source": [
    "df.Area_Types.apply(lambda s: s.split(\"_\"))\n"
   ]
  },
  {
   "cell_type": "code",
   "execution_count": 7,
   "metadata": {},
   "outputs": [
    {
     "data": {
      "text/plain": [
       "9"
      ]
     },
     "execution_count": 7,
     "metadata": {},
     "output_type": "execute_result"
    }
   ],
   "source": [
    "df.Area_Types.nunique()\n"
   ]
  },
  {
   "cell_type": "code",
   "execution_count": 6,
   "metadata": {},
   "outputs": [
    {
     "data": {
      "text/plain": [
       "array(['MixedUseArea_Residential_SpecialUseArea',\n",
       "       'CommercialBuildingArea_MixedUseArea_Residential_SpecialUseArea',\n",
       "       'Residential', 'CommercialBuildingArea_MixedUseArea_Residential',\n",
       "       'CommercialBuildingArea_Residential',\n",
       "       'CommercialBuildingArea_Residential_SpecialUseArea',\n",
       "       'Residential_SpecialUseArea', 'MixedUseArea',\n",
       "       'MixedUseArea_Residential'], dtype=object)"
      ]
     },
     "execution_count": 6,
     "metadata": {},
     "output_type": "execute_result"
    }
   ],
   "source": [
    "df.Area_Types.unique()\n"
   ]
  }
 ],
 "metadata": {
  "kernelspec": {
   "display_name": "ifo_tasks",
   "language": "python",
   "name": "python3"
  },
  "language_info": {
   "codemirror_mode": {
    "name": "ipython",
    "version": 3
   },
   "file_extension": ".py",
   "mimetype": "text/x-python",
   "name": "python",
   "nbconvert_exporter": "python",
   "pygments_lexer": "ipython3",
   "version": "3.10.10"
  },
  "orig_nbformat": 4
 },
 "nbformat": 4,
 "nbformat_minor": 2
}
