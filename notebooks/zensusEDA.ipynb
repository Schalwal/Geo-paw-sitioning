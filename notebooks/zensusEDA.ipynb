{
 "cells": [
  {
   "cell_type": "code",
   "execution_count": 16,
   "metadata": {},
   "outputs": [
    {
     "name": "stderr",
     "output_type": "stream",
     "text": [
      "/var/folders/pv/v_kjjc_n1lx06tbd709897mw0000gn/T/ipykernel_15704/1259499560.py:2: UserWarning: Shapely 2.0 is installed, but because PyGEOS is also installed, GeoPandas will still use PyGEOS by default for now. To force to use and test Shapely 2.0, you have to set the environment variable USE_PYGEOS=0. You can do this before starting the Python process, or in your code before importing geopandas:\n",
      "\n",
      "import os\n",
      "os.environ['USE_PYGEOS'] = '0'\n",
      "import geopandas\n",
      "\n",
      "In a future release, GeoPandas will switch to using Shapely by default. If you are using PyGEOS directly (calling PyGEOS functions on geometries from GeoPandas), this will then stop working and you are encouraged to migrate from PyGEOS to Shapely 2.0 (https://shapely.readthedocs.io/en/latest/migration_pygeos.html).\n",
      "  import geopandas as gpd\n"
     ]
    }
   ],
   "source": [
    "import pandas as pd\n",
    "import geopandas as gpd\n"
   ]
  },
  {
   "cell_type": "code",
   "execution_count": 11,
   "metadata": {},
   "outputs": [],
   "source": [
    "zensus_path = \"../res/data/zensus.csv\"\n",
    "df_zensus = pd.read_csv(zensus_path, index_col=0)\n"
   ]
  },
  {
   "cell_type": "code",
   "execution_count": 3,
   "metadata": {},
   "outputs": [
    {
     "name": "stdout",
     "output_type": "stream",
     "text": [
      "<class 'pandas.core.frame.DataFrame'>\n",
      "Index: 879888 entries, 0 to 879887\n",
      "Columns: 183 entries, Grid_Code to hhgr_6_more\n",
      "dtypes: float64(180), object(3)\n",
      "memory usage: 1.2+ GB\n"
     ]
    }
   ],
   "source": [
    "df_zensus.info()\n"
   ]
  },
  {
   "cell_type": "code",
   "execution_count": 4,
   "metadata": {},
   "outputs": [
    {
     "data": {
      "text/plain": [
       "(879888, 183)"
      ]
     },
     "execution_count": 4,
     "metadata": {},
     "output_type": "execute_result"
    }
   ],
   "source": [
    "df_zensus.shape\n"
   ]
  },
  {
   "cell_type": "code",
   "execution_count": 5,
   "metadata": {},
   "outputs": [
    {
     "data": {
      "text/plain": [
       "Index(['Grid_Code', 'families_total_units', 'famk_couple_wout_child',\n",
       "       'famk_couple_1_child_less_18', 'famk_couple_children_more_18',\n",
       "       'famk_reg_partner_wout_child', 'famk_reg_partner_1_child_less_18',\n",
       "       'famk_reg_partner_children_more_18', 'famk_nonmarital_wout_child',\n",
       "       'famk_nonmarital_1_child_less_18',\n",
       "       ...\n",
       "       'hhleb_nonmarital_partner', 'hhleb_single_mothers',\n",
       "       'hhleb_single_fathers', 'hhleb_multipers_wout_nuclear', 'hhgr_1_pers',\n",
       "       'hhgr_2_pers', 'hhgr_3_pers', 'hhgr_4_pers', 'hhgr_5_pers',\n",
       "       'hhgr_6_more'],\n",
       "      dtype='object', length=183)"
      ]
     },
     "execution_count": 5,
     "metadata": {},
     "output_type": "execute_result"
    }
   ],
   "source": [
    "df_zensus.columns\n"
   ]
  },
  {
   "cell_type": "code",
   "execution_count": 8,
   "metadata": {},
   "outputs": [],
   "source": [
    "df_frankf = df_zensus[df_zensus.City == \"Frankfurt\"]\n"
   ]
  },
  {
   "cell_type": "code",
   "execution_count": 20,
   "metadata": {},
   "outputs": [
    {
     "ename": "AttributeError",
     "evalue": "'DataFrame' object has no attribute 'geometry'",
     "output_type": "error",
     "traceback": [
      "\u001b[0;31m---------------------------------------------------------------------------\u001b[0m",
      "\u001b[0;31mAttributeError\u001b[0m                            Traceback (most recent call last)",
      "\u001b[0;32m/var/folders/pv/v_kjjc_n1lx06tbd709897mw0000gn/T/ipykernel_15704/4079306539.py\u001b[0m in \u001b[0;36m?\u001b[0;34m()\u001b[0m\n\u001b[0;32m----> 1\u001b[0;31m \u001b[0mdf_frankf\u001b[0m\u001b[0;34m.\u001b[0m\u001b[0mgeometry\u001b[0m\u001b[0;34m\u001b[0m\u001b[0;34m\u001b[0m\u001b[0m\n\u001b[0m",
      "\u001b[0;32m~/anaconda3/envs/ifohack_gps/lib/python3.10/site-packages/pandas/core/generic.py\u001b[0m in \u001b[0;36m?\u001b[0;34m(self, name)\u001b[0m\n\u001b[1;32m   5985\u001b[0m             \u001b[0;32mand\u001b[0m \u001b[0mname\u001b[0m \u001b[0;32mnot\u001b[0m \u001b[0;32min\u001b[0m \u001b[0mself\u001b[0m\u001b[0;34m.\u001b[0m\u001b[0m_accessors\u001b[0m\u001b[0;34m\u001b[0m\u001b[0;34m\u001b[0m\u001b[0m\n\u001b[1;32m   5986\u001b[0m             \u001b[0;32mand\u001b[0m \u001b[0mself\u001b[0m\u001b[0;34m.\u001b[0m\u001b[0m_info_axis\u001b[0m\u001b[0;34m.\u001b[0m\u001b[0m_can_hold_identifiers_and_holds_name\u001b[0m\u001b[0;34m(\u001b[0m\u001b[0mname\u001b[0m\u001b[0;34m)\u001b[0m\u001b[0;34m\u001b[0m\u001b[0;34m\u001b[0m\u001b[0m\n\u001b[1;32m   5987\u001b[0m         ):\n\u001b[1;32m   5988\u001b[0m             \u001b[0;32mreturn\u001b[0m \u001b[0mself\u001b[0m\u001b[0;34m[\u001b[0m\u001b[0mname\u001b[0m\u001b[0;34m]\u001b[0m\u001b[0;34m\u001b[0m\u001b[0;34m\u001b[0m\u001b[0m\n\u001b[0;32m-> 5989\u001b[0;31m         \u001b[0;32mreturn\u001b[0m \u001b[0mobject\u001b[0m\u001b[0;34m.\u001b[0m\u001b[0m__getattribute__\u001b[0m\u001b[0;34m(\u001b[0m\u001b[0mself\u001b[0m\u001b[0;34m,\u001b[0m \u001b[0mname\u001b[0m\u001b[0;34m)\u001b[0m\u001b[0;34m\u001b[0m\u001b[0;34m\u001b[0m\u001b[0m\n\u001b[0m",
      "\u001b[0;31mAttributeError\u001b[0m: 'DataFrame' object has no attribute 'geometry'"
     ]
    }
   ],
   "source": [
    "df_frankf.geometry\n"
   ]
  },
  {
   "cell_type": "code",
   "execution_count": 22,
   "metadata": {},
   "outputs": [],
   "source": [
    "gpd_bremen = gpd.read_file(\"../res/data/DLRdata/2 Zensus/Zensus_Bremen_Grid_100m.gpkg\")\n"
   ]
  },
  {
   "cell_type": "code",
   "execution_count": 23,
   "metadata": {},
   "outputs": [
    {
     "data": {
      "text/plain": [
       "<Axes: >"
      ]
     },
     "execution_count": 23,
     "metadata": {},
     "output_type": "execute_result"
    },
    {
     "data": {
      "image/png": "[encoded data removed]",
      "text/plain": [
       "<Figure size 640x480 with 1 Axes>"
      ]
     },
     "metadata": {},
     "output_type": "display_data"
    }
   ],
   "source": [
    "gpd_bremen.plot()\n"
   ]
  },
  {
   "cell_type": "code",
   "execution_count": 14,
   "metadata": {},
   "outputs": [
    {
     "data": {
      "text/plain": [
       "0    100mN29902E42189\n",
       "1    100mN29903E42189\n",
       "2    100mN29903E42190\n",
       "3    100mN29903E42191\n",
       "4    100mN29904E42189\n",
       "Name: Grid_Code, dtype: object"
      ]
     },
     "execution_count": 14,
     "metadata": {},
     "output_type": "execute_result"
    }
   ],
   "source": [
    "df_frankf.head().Grid_Code\n"
   ]
  },
  {
   "cell_type": "code",
   "execution_count": 19,
   "metadata": {},
   "outputs": [
    {
     "ename": "TypeError",
     "evalue": "Input must be valid geometry objects: 100mN29902E42189",
     "output_type": "error",
     "traceback": [
      "\u001b[0;31m---------------------------------------------------------------------------\u001b[0m",
      "\u001b[0;31mTypeError\u001b[0m                                 Traceback (most recent call last)",
      "Cell \u001b[0;32mIn[19], line 1\u001b[0m\n\u001b[0;32m----> 1\u001b[0m gdf_frankf \u001b[39m=\u001b[39m gpd\u001b[39m.\u001b[39;49mGeoDataFrame(df_frankf, geometry\u001b[39m=\u001b[39;49m\u001b[39m\"\u001b[39;49m\u001b[39mGrid_Code\u001b[39;49m\u001b[39m\"\u001b[39;49m, crs\u001b[39m=\u001b[39;49m\u001b[39m\"\u001b[39;49m\u001b[39mEPSG:3035\u001b[39;49m\u001b[39m\"\u001b[39;49m)\n",
      "File \u001b[0;32m~/anaconda3/envs/ifohack_gps/lib/python3.10/site-packages/geopandas/geodataframe.py:188\u001b[0m, in \u001b[0;36mGeoDataFrame.__init__\u001b[0;34m(self, data, geometry, crs, *args, **kwargs)\u001b[0m\n\u001b[1;32m    180\u001b[0m     \u001b[39mif\u001b[39;00m (\n\u001b[1;32m    181\u001b[0m         \u001b[39mhasattr\u001b[39m(geometry, \u001b[39m\"\u001b[39m\u001b[39mcrs\u001b[39m\u001b[39m\"\u001b[39m)\n\u001b[1;32m    182\u001b[0m         \u001b[39mand\u001b[39;00m geometry\u001b[39m.\u001b[39mcrs\n\u001b[1;32m    183\u001b[0m         \u001b[39mand\u001b[39;00m crs\n\u001b[1;32m    184\u001b[0m         \u001b[39mand\u001b[39;00m \u001b[39mnot\u001b[39;00m geometry\u001b[39m.\u001b[39mcrs \u001b[39m==\u001b[39m crs\n\u001b[1;32m    185\u001b[0m     ):\n\u001b[1;32m    186\u001b[0m         \u001b[39mraise\u001b[39;00m \u001b[39mValueError\u001b[39;00m(crs_mismatch_error)\n\u001b[0;32m--> 188\u001b[0m     \u001b[39mself\u001b[39;49m\u001b[39m.\u001b[39;49mset_geometry(geometry, inplace\u001b[39m=\u001b[39;49m\u001b[39mTrue\u001b[39;49;00m, crs\u001b[39m=\u001b[39;49mcrs)\n\u001b[1;32m    190\u001b[0m \u001b[39mif\u001b[39;00m geometry \u001b[39mis\u001b[39;00m \u001b[39mNone\u001b[39;00m \u001b[39mand\u001b[39;00m crs:\n\u001b[1;32m    191\u001b[0m     \u001b[39mraise\u001b[39;00m \u001b[39mValueError\u001b[39;00m(\n\u001b[1;32m    192\u001b[0m         \u001b[39m\"\u001b[39m\u001b[39mAssigning CRS to a GeoDataFrame without a geometry column is not \u001b[39m\u001b[39m\"\u001b[39m\n\u001b[1;32m    193\u001b[0m         \u001b[39m\"\u001b[39m\u001b[39msupported. Supply geometry using the \u001b[39m\u001b[39m'\u001b[39m\u001b[39mgeometry=\u001b[39m\u001b[39m'\u001b[39m\u001b[39m keyword argument, \u001b[39m\u001b[39m\"\u001b[39m\n\u001b[1;32m    194\u001b[0m         \u001b[39m\"\u001b[39m\u001b[39mor by providing a DataFrame with column name \u001b[39m\u001b[39m'\u001b[39m\u001b[39mgeometry\u001b[39m\u001b[39m'\u001b[39m\u001b[39m\"\u001b[39m,\n\u001b[1;32m    195\u001b[0m     )\n",
      "File \u001b[0;32m~/anaconda3/envs/ifohack_gps/lib/python3.10/site-packages/geopandas/geodataframe.py:346\u001b[0m, in \u001b[0;36mGeoDataFrame.set_geometry\u001b[0;34m(self, col, drop, inplace, crs)\u001b[0m\n\u001b[1;32m    343\u001b[0m     level\u001b[39m.\u001b[39mcrs \u001b[39m=\u001b[39m crs\n\u001b[1;32m    345\u001b[0m \u001b[39m# Check that we are using a listlike of geometries\u001b[39;00m\n\u001b[0;32m--> 346\u001b[0m level \u001b[39m=\u001b[39m _ensure_geometry(level, crs\u001b[39m=\u001b[39;49mcrs)\n\u001b[1;32m    347\u001b[0m frame[geo_column_name] \u001b[39m=\u001b[39m level\n\u001b[1;32m    348\u001b[0m frame\u001b[39m.\u001b[39m_geometry_column_name \u001b[39m=\u001b[39m geo_column_name\n",
      "File \u001b[0;32m~/anaconda3/envs/ifohack_gps/lib/python3.10/site-packages/geopandas/geodataframe.py:59\u001b[0m, in \u001b[0;36m_ensure_geometry\u001b[0;34m(data, crs)\u001b[0m\n\u001b[1;32m     57\u001b[0m \u001b[39melse\u001b[39;00m:\n\u001b[1;32m     58\u001b[0m     \u001b[39mif\u001b[39;00m \u001b[39misinstance\u001b[39m(data, Series):\n\u001b[0;32m---> 59\u001b[0m         out \u001b[39m=\u001b[39m from_shapely(np\u001b[39m.\u001b[39;49masarray(data), crs\u001b[39m=\u001b[39;49mcrs)\n\u001b[1;32m     60\u001b[0m         \u001b[39mreturn\u001b[39;00m GeoSeries(out, index\u001b[39m=\u001b[39mdata\u001b[39m.\u001b[39mindex, name\u001b[39m=\u001b[39mdata\u001b[39m.\u001b[39mname)\n\u001b[1;32m     61\u001b[0m     \u001b[39melse\u001b[39;00m:\n",
      "File \u001b[0;32m~/anaconda3/envs/ifohack_gps/lib/python3.10/site-packages/geopandas/array.py:154\u001b[0m, in \u001b[0;36mfrom_shapely\u001b[0;34m(data, crs)\u001b[0m\n\u001b[1;32m    138\u001b[0m \u001b[39mdef\u001b[39;00m \u001b[39mfrom_shapely\u001b[39m(data, crs\u001b[39m=\u001b[39m\u001b[39mNone\u001b[39;00m):\n\u001b[1;32m    139\u001b[0m \u001b[39m    \u001b[39m\u001b[39m\"\"\"\u001b[39;00m\n\u001b[1;32m    140\u001b[0m \u001b[39m    Convert a list or array of shapely objects to a GeometryArray.\u001b[39;00m\n\u001b[1;32m    141\u001b[0m \n\u001b[0;32m   (...)\u001b[0m\n\u001b[1;32m    152\u001b[0m \n\u001b[1;32m    153\u001b[0m \u001b[39m    \"\"\"\u001b[39;00m\n\u001b[0;32m--> 154\u001b[0m     \u001b[39mreturn\u001b[39;00m GeometryArray(vectorized\u001b[39m.\u001b[39;49mfrom_shapely(data), crs\u001b[39m=\u001b[39mcrs)\n",
      "File \u001b[0;32m~/anaconda3/envs/ifohack_gps/lib/python3.10/site-packages/geopandas/_vectorized.py:145\u001b[0m, in \u001b[0;36mfrom_shapely\u001b[0;34m(data)\u001b[0m\n\u001b[1;32m    143\u001b[0m         out\u001b[39m.\u001b[39mappend(\u001b[39mNone\u001b[39;00m)\n\u001b[1;32m    144\u001b[0m     \u001b[39melse\u001b[39;00m:\n\u001b[0;32m--> 145\u001b[0m         \u001b[39mraise\u001b[39;00m \u001b[39mTypeError\u001b[39;00m(\u001b[39m\"\u001b[39m\u001b[39mInput must be valid geometry objects: \u001b[39m\u001b[39m{0}\u001b[39;00m\u001b[39m\"\u001b[39m\u001b[39m.\u001b[39mformat(geom))\n\u001b[1;32m    147\u001b[0m \u001b[39mif\u001b[39;00m compat\u001b[39m.\u001b[39mUSE_PYGEOS:\n\u001b[1;32m    148\u001b[0m     \u001b[39mreturn\u001b[39;00m np\u001b[39m.\u001b[39marray(out, dtype\u001b[39m=\u001b[39m\u001b[39mobject\u001b[39m)\n",
      "\u001b[0;31mTypeError\u001b[0m: Input must be valid geometry objects: 100mN29902E42189"
     ]
    }
   ],
   "source": [
    "gdf_frankf = gpd.GeoDataFrame(df_frankf, geometry=\"Grid_Code\", crs=\"EPSG:3035\")\n"
   ]
  }
 ],
 "metadata": {
  "kernelspec": {
   "display_name": "ifohack_gps",
   "language": "python",
   "name": "python3"
  },
  "language_info": {
   "codemirror_mode": {
    "name": "ipython",
    "version": 3
   },
   "file_extension": ".py",
   "mimetype": "text/x-python",
   "name": "python",
   "nbconvert_exporter": "python",
   "pygments_lexer": "ipython3",
   "version": "3.10.10"
  },
  "orig_nbformat": 4
 },
 "nbformat": 4,
 "nbformat_minor": 2
}
