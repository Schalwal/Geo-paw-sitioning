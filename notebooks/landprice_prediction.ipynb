{
 "cells": [
  {
   "cell_type": "code",
   "execution_count": null,
   "metadata": {},
   "outputs": [],
   "source": [
    "import sys\n",
    "import os\n",
    "import numpy as np\n",
    "from sklearn import linear_model\n",
    "from sklearn.model_selection import cross_val_score\n",
    "from sklearn.preprocessing import StandardScaler\n",
    "from sklearn.linear_model import LinearRegression\n",
    "import statsmodels.api as sm\n",
    "from scipy import stats\n",
    "import seaborn as sns\n",
    "from matplotlib import pyplot as plt\n",
    "\n",
    "import pandas as pd\n",
    "\n",
    "os.environ[\"USE_PYGEOS\"] = \"0\"\n",
    "import geopandas as gpd\n",
    "\n",
    "sys.path.insert(0, \"../src/\")\n",
    "\n",
    "from landprice_merger import (\n",
    "    zensus_landprice_merger,\n",
    "    landprice_neighborhood_merger,\n",
    "    combine_landprice_with_geodata,\n",
    ")\n",
    "from csv_merger import combine_csvs\n",
    "from principal_component_analysis import combine_PCA_datasets\n"
   ]
  },
  {
   "cell_type": "code",
   "execution_count": null,
   "metadata": {},
   "outputs": [],
   "source": [
    "cities = [\"Berlin\", \"Bremen\", \"Dresden\", \"Frankfurt_am_Main\", \"Köln\"]\n",
    "\n",
    "main_path = os.path.join(os.getcwd(), \"..\")\n",
    "\n",
    "path_zensus = os.path.join(main_path, \"res\", \"data\", \"DLR\", \"2 Zensus\")\n",
    "path_land = os.path.join(main_path, \"res\", \"data\", \"DLR\", \"1 Land Prices\")\n",
    "path_neigh = os.path.join(main_path, \"res\", \"data\", \"DLR\", \"3 Neighborhoods\")\n"
   ]
  },
  {
   "cell_type": "code",
   "execution_count": null,
   "metadata": {},
   "outputs": [],
   "source": [
    "df_zensus = combine_csvs(str_path=path_zensus)"
   ]
  },
  {
   "cell_type": "code",
   "execution_count": null,
   "metadata": {},
   "outputs": [],
   "source": [
    "gdf_zensus = combine_PCA_datasets(\n",
    "    df_zensus=df_zensus, str_city=cities[4], str_path=path_zensus\n",
    ")"
   ]
  },
  {
   "cell_type": "code",
   "execution_count": null,
   "metadata": {},
   "outputs": [],
   "source": [
    "df_land_prices = combine_csvs(str_path=path_land)\n",
    "\n",
    "gdf_landprices = combine_landprice_with_geodata(\n",
    "    df_landprice=df_land_prices, str_city=cities[4], str_path=path_land\n",
    ")\n",
    "\n",
    "gdf_landprices_names = landprice_neighborhood_merger(\n",
    "    gdf_landprice=gdf_landprices, str_city=cities[4], str_path_neigh=path_neigh\n",
    ")\n"
   ]
  },
  {
   "cell_type": "code",
   "execution_count": null,
   "metadata": {},
   "outputs": [],
   "source": [
    "gdf_zensus"
   ]
  },
  {
   "cell_type": "code",
   "execution_count": null,
   "metadata": {},
   "outputs": [],
   "source": [
    "result = zensus_landprice_merger(\n",
    "    gdf_landprices=gdf_landprices_names, gdf_zensus=gdf_zensus\n",
    ")"
   ]
  },
  {
   "cell_type": "code",
   "execution_count": null,
   "metadata": {},
   "outputs": [],
   "source": [
    "result"
   ]
  },
  {
   "cell_type": "code",
   "execution_count": null,
   "metadata": {},
   "outputs": [],
   "source": [
    "ls_df_cities = []\n",
    "\n",
    "for i in range(len(cities)):\n",
    "    \n",
    "    df_zensus = combine_csvs(str_path=path_zensus)\n",
    "\n",
    "    gdf_zensus = combine_PCA_datasets(\n",
    "    df_zensus=df_zensus, str_city=cities[i], str_path=path_zensus\n",
    "    )\n",
    "\n",
    "    df_land_prices = combine_csvs(str_path=path_land)\n",
    "\n",
    "    gdf_landprices = combine_landprice_with_geodata(\n",
    "        df_landprice=df_land_prices, str_city=cities[i], str_path=path_land\n",
    "    )\n",
    "\n",
    "    gdf_landprices_names = landprice_neighborhood_merger(\n",
    "        gdf_landprice=gdf_landprices, str_city=cities[i], str_path_neigh=path_neigh\n",
    "    )\n",
    "\n",
    "    result = zensus_landprice_merger(\n",
    "    gdf_landprices=gdf_landprices_names, gdf_zensus=gdf_zensus\n",
    "    )\n",
    "\n",
    "    result_grouped = result.groupby(\"Neighborhood_Name\").median().reset_index()\n",
    "\n",
    "    \n",
    "    land_price_grid = gpd.read_file(path_neigh + \"/Neighborhoods_\" + cities[i] + \".gpkg\")\n",
    "    result_grouped = result_grouped.merge(land_price_grid, on = [\"Neighborhood_Name\", \"Neighborhood_FID\"])\n",
    "    result_grouped_lm = result_grouped.drop(columns = [\"Neighborhood_Name\"])\n",
    "\n",
    "    ls_df_cities.append(result_grouped_lm)\n"
   ]
  },
  {
   "attachments": {},
   "cell_type": "markdown",
   "metadata": {},
   "source": [
    "### Berlin"
   ]
  },
  {
   "cell_type": "code",
   "execution_count": null,
   "metadata": {},
   "outputs": [],
   "source": [
    "df_berlin = ls_df_cities[0].drop(columns = [\"geometry\", \"City_Name\", \"City_Code\", \"index_right\", \"Neighborhood_FID\", \"District_Name\"])"
   ]
  },
  {
   "cell_type": "code",
   "execution_count": null,
   "metadata": {},
   "outputs": [],
   "source": [
    "df_berlin = pd.read_csv(\"D:/GitHub/Geo-paw-sitioning/res/data/Geo-paw-sitioningBerlin.csv\").drop(columns = [\"geometry\", \"City_Name\", \"City_Code\", \"index_right\", \"Neighborhood_FID\", \"District_Name\"])"
   ]
  },
  {
   "cell_type": "code",
   "execution_count": null,
   "metadata": {},
   "outputs": [],
   "source": [
    "# calculate the correlation matrix\n",
    "corr = np.corrcoef(df_berlin)\n",
    "\n",
    "\n",
    "plt.figure(figsize=(30,20))\n",
    "# plot the heatmap\n",
    "sns.heatmap(corr, \n",
    "        xticklabels=df_berlin.columns,\n",
    "        yticklabels=df_berlin.columns)\n",
    "\n",
    "plt.show"
   ]
  },
  {
   "cell_type": "code",
   "execution_count": null,
   "metadata": {},
   "outputs": [],
   "source": [
    "y = df_berlin[\"Land_Value\"].values.reshape(-1, 1)\n",
    "X = df_berlin.drop(columns = [\"Land_Value\"])[[\"buildings_total_units\",\n",
    "\"population_total_units\",\n",
    "\"households_total_units\",\n",
    "'Area_Count',\n",
    "\"n_vacant\",\n",
    "\"MixedUseArea\",\n",
    "\"r_6\"]].values #'hhtyp_multiplepers_wout_nuclear',\n",
    "\n",
    "scaler = StandardScaler()\n",
    "\n",
    "X_scaled = scaler.fit_transform(X)\n",
    "y_scaled = scaler.fit_transform(y)\n"
   ]
  },
  {
   "cell_type": "code",
   "execution_count": null,
   "metadata": {},
   "outputs": [],
   "source": [
    "df_berlin.drop(columns = [\"Land_Value\"])[[\"buildings_total_units\",\n",
    "\"population_total_units\",\n",
    "\"households_total_units\",\n",
    "'Area_Count',\n",
    "\"n_vacant\",\n",
    "\"MixedUseArea\",\n",
    "\"r_6\"]]"
   ]
  },
  {
   "cell_type": "code",
   "execution_count": null,
   "metadata": {},
   "outputs": [],
   "source": [
    "\n",
    "X2 = sm.add_constant(X_scaled)\n",
    "est = sm.OLS(y_scaled, X2)\n",
    "est2 = est.fit()\n",
    "print(est2.summary())\n"
   ]
  },
  {
   "cell_type": "code",
   "execution_count": null,
   "metadata": {},
   "outputs": [],
   "source": []
  },
  {
   "cell_type": "code",
   "execution_count": null,
   "metadata": {},
   "outputs": [],
   "source": [
    "regr = linear_model.LinearRegression()\n",
    "regr.fit(X_scaled, y_scaled)\n",
    "\n",
    "print('Intercept: \\n', regr.intercept_)\n",
    "print('Coefficients: \\n', regr.coef_)"
   ]
  },
  {
   "cell_type": "code",
   "execution_count": null,
   "metadata": {},
   "outputs": [],
   "source": [
    "df_reg_berlin = {\n",
    "    \"Name\": [\"buildings_total_units\",\n",
    "            \"population_total_units\",\n",
    "            \"households_total_units\",\n",
    "            'Area_Count',\n",
    "            \"n_vacant\",\n",
    "            \"MixedUseArea\",\n",
    "            \"r_6\"],\n",
    "    \"Coeff\": regr.coef_[0].tolist()\n",
    "}\n",
    "pd.DataFrame(df_reg_berlin).to_csv(\"Berlin_coeff.csv\")\n"
   ]
  },
  {
   "cell_type": "code",
   "execution_count": null,
   "metadata": {},
   "outputs": [],
   "source": [
    "scores = cross_val_score(regr, X_scaled, y_scaled, cv = 5)\n",
    "scores"
   ]
  },
  {
   "cell_type": "code",
   "execution_count": null,
   "metadata": {},
   "outputs": [],
   "source": [
    "print(\"Accuracy: %0.2f (+/- %0.2f)\" % (scores.mean(), scores.std() * 2))"
   ]
  },
  {
   "attachments": {},
   "cell_type": "markdown",
   "metadata": {},
   "source": [
    "### Bremen"
   ]
  },
  {
   "cell_type": "code",
   "execution_count": null,
   "metadata": {},
   "outputs": [],
   "source": [
    "df_bremen = ls_df_cities[1].drop(columns = [\"geometry\", \"City_Name\", \"City_Code\", \"index_right\", \"Neighborhood_FID\", \"District_Name\", \n",
    "\"Neighborhood_Code\", \"District_Code\"])"
   ]
  },
  {
   "cell_type": "code",
   "execution_count": null,
   "metadata": {},
   "outputs": [],
   "source": [
    "#df_bremen\n",
    "df_bremen = pd.read_csv(\"D:/GitHub/Geo-paw-sitioning/res/data/Geo-paw-sitioningBremen.csv\").drop(columns = [\"geometry\", \"City_Name\", \"City_Code\", \"index_right\", \"Neighborhood_FID\", \"District_Name\", \n",
    "\"Neighborhood_Code\", \"District_Code\"])"
   ]
  },
  {
   "cell_type": "code",
   "execution_count": null,
   "metadata": {},
   "outputs": [],
   "source": [
    "corr = np.corrcoef(df_bremen)\n",
    "\n",
    "\n",
    "plt.figure(figsize=(30,20))\n",
    "# plot the heatmap\n",
    "sns.heatmap(corr, \n",
    "        xticklabels=df_bremen.columns,\n",
    "        yticklabels=df_bremen.columns)\n",
    "\n",
    "plt.show"
   ]
  },
  {
   "cell_type": "code",
   "execution_count": null,
   "metadata": {},
   "outputs": [],
   "source": [
    "df_bremen.columns"
   ]
  },
  {
   "cell_type": "code",
   "execution_count": null,
   "metadata": {},
   "outputs": [],
   "source": [
    "y = df_bremen[\"Land_Value\"].values.reshape(-1, 1)\n",
    "X = df_bremen.drop(columns = [\"Land_Value\"])[[\"buildings_total_units\",\n",
    "\"population_total_units\",\n",
    "\"households_total_units\",\n",
    "'Area_Count',\n",
    "\"AgriculturalArea\",\n",
    "\"famgr_6_more\",\n",
    "\"al_80_over\"]].values #'hhtyp_multiplepers_wout_nuclear',\n",
    "\n",
    "scaler = StandardScaler()\n",
    "\n",
    "X_scaled = scaler.fit_transform(X)\n",
    "y_scaled = scaler.fit_transform(y)\n"
   ]
  },
  {
   "cell_type": "code",
   "execution_count": null,
   "metadata": {},
   "outputs": [],
   "source": [
    "X2 = sm.add_constant(X_scaled)\n",
    "est = sm.OLS(y_scaled, X2)\n",
    "est2 = est.fit()\n",
    "print(est2.summary())"
   ]
  },
  {
   "cell_type": "code",
   "execution_count": null,
   "metadata": {},
   "outputs": [],
   "source": [
    "regr = linear_model.LinearRegression()\n",
    "regr.fit(X_scaled, y_scaled)"
   ]
  },
  {
   "cell_type": "code",
   "execution_count": null,
   "metadata": {},
   "outputs": [],
   "source": [
    "df_reg_bremen = {\n",
    "    \"Name\": [\"buildings_total_units\",\n",
    "            \"population_total_units\",\n",
    "            \"households_total_units\",\n",
    "            'Area_Count',\n",
    "            \"AgriculturalArea\",\n",
    "            \"famgr_6_more\",\n",
    "            \"al_80_over\"],\n",
    "    \"Coeff\": regr.coef_[0].tolist()\n",
    "}\n",
    "pd.DataFrame(df_reg_bremen).to_csv(\"Bremen_coeff.csv\")"
   ]
  },
  {
   "cell_type": "code",
   "execution_count": null,
   "metadata": {},
   "outputs": [],
   "source": [
    "scores = cross_val_score(regr, X_scaled, y_scaled, cv = 5)\n",
    "scores"
   ]
  },
  {
   "cell_type": "code",
   "execution_count": null,
   "metadata": {},
   "outputs": [],
   "source": [
    "print(\"Accuracy: %0.2f (+/- %0.2f)\" % (scores.mean(), scores.std() * 2))"
   ]
  },
  {
   "attachments": {},
   "cell_type": "markdown",
   "metadata": {},
   "source": [
    "### Dresden"
   ]
  },
  {
   "cell_type": "code",
   "execution_count": null,
   "metadata": {},
   "outputs": [],
   "source": [
    "df_dresden = ls_df_cities[2].drop(columns = [\"geometry\", \"City_Name\", \"City_Code\", \"index_right\", \"Neighborhood_FID\", \"Neighborhood_Code\"])"
   ]
  },
  {
   "cell_type": "code",
   "execution_count": null,
   "metadata": {},
   "outputs": [],
   "source": [
    "df_dresden = pd.read_csv(\"D:/GitHub/Geo-paw-sitioning/res/data/Geo-paw-sitioningDresden.csv\").drop(columns = [\"geometry\", \"City_Name\", \"City_Code\", \"index_right\", \"Neighborhood_FID\", \"Neighborhood_Code\"])"
   ]
  },
  {
   "cell_type": "code",
   "execution_count": null,
   "metadata": {},
   "outputs": [],
   "source": [
    "corr = np.corrcoef(df_dresden)\n",
    "\n",
    "\n",
    "plt.figure(figsize=(30,20))\n",
    "# plot the heatmap\n",
    "sns.heatmap(corr, \n",
    "        xticklabels=df_dresden.columns,\n",
    "        yticklabels=df_dresden.columns)\n",
    "\n",
    "plt.show"
   ]
  },
  {
   "cell_type": "code",
   "execution_count": null,
   "metadata": {},
   "outputs": [],
   "source": [
    "df_dresden.columns"
   ]
  },
  {
   "cell_type": "code",
   "execution_count": null,
   "metadata": {},
   "outputs": [],
   "source": [
    "y = df_dresden[\"Land_Value\"].values.reshape(-1, 1)\n",
    "X = df_dresden.drop(columns = [\"Land_Value\"])[[\"buildings_total_units\",\n",
    "\"population_total_units\",\n",
    "\"households_total_units\",\n",
    "'Area_Count',\n",
    "\"sz_mult_german_foreign\"]].values #'hhtyp_multiplepers_wout_nuclear',\n",
    "\n",
    "scaler = StandardScaler()\n",
    "\n",
    "X_scaled = scaler.fit_transform(X)\n",
    "y_scaled = scaler.fit_transform(y)"
   ]
  },
  {
   "cell_type": "code",
   "execution_count": null,
   "metadata": {},
   "outputs": [],
   "source": [
    "df_dresden"
   ]
  },
  {
   "cell_type": "code",
   "execution_count": null,
   "metadata": {},
   "outputs": [],
   "source": [
    "X2 = sm.add_constant(X_scaled)\n",
    "est = sm.OLS(y_scaled, X2)\n",
    "est2 = est.fit()\n",
    "print(est2.summary())"
   ]
  },
  {
   "cell_type": "code",
   "execution_count": null,
   "metadata": {},
   "outputs": [],
   "source": [
    "regr = linear_model.LinearRegression()\n",
    "regr.fit(X_scaled, y_scaled)"
   ]
  },
  {
   "cell_type": "code",
   "execution_count": null,
   "metadata": {},
   "outputs": [],
   "source": [
    "df_reg_dresden = {\n",
    "    \"Name\": [\"buildings_total_units\",\n",
    "    \"population_total_units\",\n",
    "    \"households_total_units\",\n",
    "    'Area_Count',\n",
    "    \"sz_mult_german_foreign\"],\n",
    "    \"Coeff\": regr.coef_[0].tolist()\n",
    "}\n",
    "pd.DataFrame(df_reg_dresden).to_csv(\"Dresden_coeff.csv\")"
   ]
  },
  {
   "cell_type": "code",
   "execution_count": null,
   "metadata": {},
   "outputs": [],
   "source": [
    "scores = cross_val_score(regr, X_scaled, y_scaled, cv = 5)\n",
    "scores"
   ]
  },
  {
   "cell_type": "code",
   "execution_count": null,
   "metadata": {},
   "outputs": [],
   "source": [
    "print(\"Accuracy: %0.2f (+/- %0.2f)\" % (scores.mean(), scores.std() * 2))"
   ]
  },
  {
   "attachments": {},
   "cell_type": "markdown",
   "metadata": {},
   "source": [
    "### Frankfurt am Main"
   ]
  },
  {
   "cell_type": "code",
   "execution_count": null,
   "metadata": {},
   "outputs": [],
   "source": [
    "df_frankfurt = ls_df_cities[3].drop(columns = [\"geometry\", \"City_Name\", \"City_Code\", \"Neighborhood_FID\"])"
   ]
  },
  {
   "cell_type": "code",
   "execution_count": null,
   "metadata": {},
   "outputs": [],
   "source": [
    "df_frankfurt = pd.read_csv(\"D:/GitHub/Geo-paw-sitioning/res/data/Geo-paw-sitioningFrankfurt_am_Main.csv\").drop(columns = [\"geometry\", \"City_Name\", \"City_Code\", \"Neighborhood_FID\"])"
   ]
  },
  {
   "cell_type": "code",
   "execution_count": null,
   "metadata": {},
   "outputs": [],
   "source": [
    "corr = np.corrcoef(df_frankfurt)\n",
    "\n",
    "\n",
    "plt.figure(figsize=(30,20))\n",
    "# plot the heatmap\n",
    "sns.heatmap(corr, \n",
    "        xticklabels=df_frankfurt.columns,\n",
    "        yticklabels=df_frankfurt.columns)\n",
    "\n",
    "plt.show"
   ]
  },
  {
   "cell_type": "code",
   "execution_count": null,
   "metadata": {},
   "outputs": [],
   "source": [
    "df_frankfurt.columns"
   ]
  },
  {
   "cell_type": "code",
   "execution_count": null,
   "metadata": {},
   "outputs": [],
   "source": [
    "y = df_frankfurt[\"Land_Value\"].values.reshape(-1, 1)\n",
    "X = df_frankfurt.drop(columns = [\"Land_Value\"])[[\n",
    "\"e_community_of_apartment_owners\"]].values #'hhtyp_multiplepers_wout_nuclear',\n",
    "\n",
    "scaler = StandardScaler()\n",
    "\n",
    "X_scaled = scaler.fit_transform(X)\n",
    "y_scaled = scaler.fit_transform(y)"
   ]
  },
  {
   "cell_type": "code",
   "execution_count": null,
   "metadata": {},
   "outputs": [],
   "source": [
    "regr = linear_model.LinearRegression()\n",
    "regr.fit(X_scaled, y_scaled)"
   ]
  },
  {
   "cell_type": "code",
   "execution_count": null,
   "metadata": {},
   "outputs": [],
   "source": [
    "df_reg_frankfurt = {\n",
    "    \"Name\": [\n",
    "\"e_community_of_apartment_owners\"],\n",
    "    \"Coeff\": regr.coef_[0].tolist()\n",
    "}\n",
    "pd.DataFrame(df_reg_frankfurt).to_csv(\"Frankfurt_coeff.csv\")"
   ]
  },
  {
   "cell_type": "code",
   "execution_count": null,
   "metadata": {},
   "outputs": [],
   "source": [
    "X2 = sm.add_constant(X_scaled)\n",
    "est = sm.OLS(y_scaled, X2)\n",
    "est2 = est.fit()\n",
    "print(est2.summary())"
   ]
  },
  {
   "cell_type": "code",
   "execution_count": null,
   "metadata": {},
   "outputs": [],
   "source": [
    "scores = cross_val_score(regr, X_scaled, y_scaled, cv = 5)\n",
    "scores"
   ]
  },
  {
   "cell_type": "code",
   "execution_count": null,
   "metadata": {},
   "outputs": [],
   "source": [
    "print(\"Accuracy: %0.2f (+/- %0.2f)\" % (scores.mean(), scores.std() * 2))"
   ]
  },
  {
   "attachments": {},
   "cell_type": "markdown",
   "metadata": {},
   "source": [
    "### Koeln"
   ]
  },
  {
   "cell_type": "code",
   "execution_count": null,
   "metadata": {},
   "outputs": [],
   "source": [
    "df_koeln = ls_df_cities[4].drop(columns = [\"geometry\", \"City_Name\", \"City_Code\", \"Neighborhood_FID\", \"District_Name\"])"
   ]
  },
  {
   "cell_type": "code",
   "execution_count": null,
   "metadata": {},
   "outputs": [],
   "source": [
    "df_koeln = pd.read_csv(\"D:/GitHub/Geo-paw-sitioning/res/data/Geo-paw-sitioningKöln.csv\").drop(columns = [\"geometry\", \"City_Name\", \"City_Code\", \"Neighborhood_FID\", \"District_Name\"])"
   ]
  },
  {
   "cell_type": "code",
   "execution_count": null,
   "metadata": {},
   "outputs": [],
   "source": [
    "corr = np.corrcoef(df_koeln)\n",
    "\n",
    "\n",
    "plt.figure(figsize=(30,20))\n",
    "# plot the heatmap\n",
    "sns.heatmap(corr, \n",
    "        xticklabels=df_koeln.columns,\n",
    "        yticklabels=df_koeln.columns)\n",
    "\n",
    "plt.show"
   ]
  },
  {
   "cell_type": "code",
   "execution_count": null,
   "metadata": {},
   "outputs": [],
   "source": [
    "df_koeln.columns"
   ]
  },
  {
   "cell_type": "code",
   "execution_count": null,
   "metadata": {},
   "outputs": [],
   "source": [
    "y = df_koeln[\"Land_Value\"].values.reshape(-1, 1)\n",
    "X = df_koeln.drop(columns = [\"Land_Value\"])[[\"buildings_total_units\",\n",
    "\"al_60_69\",\n",
    "\"we_public_companies\",\n",
    "'famk_mothers_children_more_18',\n",
    "\"gg_detached_twofamily\"]].values #'hhtyp_multiplepers_wout_nuclear',\n",
    "\n",
    "scaler = StandardScaler()\n",
    "\n",
    "X_scaled = scaler.fit_transform(X)\n",
    "y_scaled = scaler.fit_transform(y)"
   ]
  },
  {
   "cell_type": "code",
   "execution_count": null,
   "metadata": {},
   "outputs": [],
   "source": [
    "X2 = sm.add_constant(X_scaled)\n",
    "est = sm.OLS(y_scaled, X2)\n",
    "est2 = est.fit()\n",
    "print(est2.summary())"
   ]
  },
  {
   "cell_type": "code",
   "execution_count": null,
   "metadata": {},
   "outputs": [],
   "source": [
    "regr = linear_model.LinearRegression()\n",
    "regr.fit(X_scaled, y_scaled)\n",
    "\n",
    "df_reg_koeln = {\n",
    "    \"Name\": [\"buildings_total_units\",\n",
    "\"al_60_69\",\n",
    "\"we_public_companies\",\n",
    "'famk_mothers_children_more_18',\n",
    "\"gg_detached_twofamily\"],\n",
    "    \"Coeff\": regr.coef_[0].tolist()\n",
    "}\n",
    "pd.DataFrame(df_reg_koeln).to_csv(\"koeln_coeff.csv\")"
   ]
  },
  {
   "cell_type": "code",
   "execution_count": null,
   "metadata": {},
   "outputs": [],
   "source": [
    "scores = cross_val_score(regr, X_scaled, y_scaled, cv = 5)\n",
    "scores"
   ]
  },
  {
   "cell_type": "code",
   "execution_count": null,
   "metadata": {},
   "outputs": [],
   "source": [
    "print(\"Accuracy: %0.2f (+/- %0.2f)\" % (scores.mean(), scores.std() * 2))"
   ]
  },
  {
   "cell_type": "code",
   "execution_count": null,
   "metadata": {},
   "outputs": [],
   "source": []
  }
 ],
 "metadata": {
  "kernelspec": {
   "display_name": "ifohack_gps",
   "language": "python",
   "name": "python3"
  },
  "language_info": {
   "codemirror_mode": {
    "name": "ipython",
    "version": 3
   },
   "file_extension": ".py",
   "mimetype": "text/x-python",
   "name": "python",
   "nbconvert_exporter": "python",
   "pygments_lexer": "ipython3",
   "version": "3.10.11"
  },
  "orig_nbformat": 4
 },
 "nbformat": 4,
 "nbformat_minor": 2
}
