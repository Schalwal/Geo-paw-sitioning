{
 "cells": [
  {
   "cell_type": "code",
   "execution_count": null,
   "metadata": {},
   "outputs": [],
   "source": [
    "import pandas as pd\n",
    "import geopandas as gpd\n",
    "\n",
    "import matplotlib.pyplot as plt\n",
    "\n",
    "import folium \n",
    "from pysal.lib import weights  \n",
    "import segregation as seg"
   ]
  },
  {
   "cell_type": "code",
   "execution_count": null,
   "metadata": {},
   "outputs": [],
   "source": []
  },
  {
   "cell_type": "code",
   "execution_count": null,
   "metadata": {},
   "outputs": [],
   "source": [
    "\n",
    "single_var_1 = \"j_1979_1995\"\n",
    "single_var_2 = \"we_housing_cooperative\"\n",
    "total_pop_var = \"households_total_units\"\n",
    "\n",
    "\n",
    "df_zensus_bremen[total_pop_var] = df_zensus_bremen[total_pop_var].astype(int) # do this in utils\n",
    "df_zensus_bremen[single_var_1] = df_zensus_bremen[single_var_1].astype(int)\n",
    "df_zensus_bremen[single_var_2] = df_zensus_bremen[single_var_2].astype(int)"
   ]
  },
  {
   "cell_type": "code",
   "execution_count": null,
   "metadata": {},
   "outputs": [],
   "source": [
    "\n",
    "# A-spatial segregation index     \n",
    "int1 = seg.singlegroup.Interaction(data = df_zensus_bremen, group_pop_var = single_var_1, total_pop_var = total_pop_var)\n",
    "int2 = seg.singlegroup.Interaction(data = df_zensus_bremen, group_pop_var = single_var_2, total_pop_var = total_pop_var)\n",
    "\n",
    "print(\"Interaction of owner category %s: %.2f and Interaction of owner category %s: %.2f\" %(single_var_1, int1.statistic, single_var_2, int2.statistic))\n"
   ]
  },
  {
   "cell_type": "code",
   "execution_count": null,
   "metadata": {},
   "outputs": [],
   "source": [
    "zensus_bremen_grid = gpd.read_file(\"D:/ifo_hack/ifoHack_DLR_Challenge_Data/2 Zensus/Zensus_Bremen_Grid_100m.gpkg\")\n",
    "idx_column = \"Grid_Code\"\n",
    "\n",
    "\n",
    "wr = weights.contiguity.Queen.from_dataframe(zensus_bremen_grid, geom_col = \"geometry\", ids = idx_column )    \n",
    "zensus_bremen_grid_copy = zensus_bremen_grid[~zensus_bremen_grid[idx_column].isin(wr.islands)].copy()\n",
    "\n",
    "m = zensus_bremen_grid.explore(height=500, width=1000, color=\"gray\", name=\"Zensus Grid Cells 100mx100m\")\n",
    "m = zensus_bremen_grid_copy.explore(m=m, color=\"blue\", name=\"Zensus Grid Cells (filtered)\")\n",
    "\n",
    "folium.LayerControl().add_to(m)\n",
    "plt.show()"
   ]
  },
  {
   "cell_type": "code",
   "execution_count": null,
   "metadata": {},
   "outputs": [],
   "source": [
    "dint1 = seg.singlegroup.DistanceDecayInteraction(data = zensus_bremen_grid_copy, group_pop_var = single_var_1, total_pop_var = total_pop_var)\n",
    "dint2 = seg.singlegroup.DistanceDecayInteraction(data = zensus_bremen_grid_copy, group_pop_var = single_var_2, total_pop_var = total_pop_var)\n",
    "    \n",
    "print(\"Interaction (spatial) of age category %s: %.2f and Interaction (spatial) of age category %s: %.2f\" %(single_var_1, dint1.statistic, \n",
    "                                                                                                            single_var_2, dint2.statistic))\n",
    "\n",
    "zensus_bremen_grid_copy[single_var_1 + \"_perc\"] = [x * 100 / y if y != 0 else 0 for (x,y) in zip(zensus_bremen_grid_copy[single_var_1], zensus_bremen_grid_copy[total_pop_var])]\n",
    " \n",
    "m = zensus_bremen_grid_copy.explore(height=500, width=1000, name=\"Seniors > 65yo\",\n",
    "                             column = single_var_1 + \"_perc\", scheme = \"EqualInterval\", cmap = \"inferno\", legend = True)\n",
    "\n",
    "\n",
    "folium.LayerControl().add_to(m)\n",
    "m"
   ]
  },
  {
   "cell_type": "code",
   "execution_count": null,
   "metadata": {},
   "outputs": [],
   "source": []
  },
  {
   "cell_type": "code",
   "execution_count": null,
   "metadata": {},
   "outputs": [],
   "source": []
  }
 ],
 "metadata": {
  "language_info": {
   "name": "python"
  },
  "orig_nbformat": 4
 },
 "nbformat": 4,
 "nbformat_minor": 2
}
