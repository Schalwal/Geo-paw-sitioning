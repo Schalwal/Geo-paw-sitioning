{
 "cells": [
  {
   "cell_type": "code",
   "execution_count": 2,
   "metadata": {},
   "outputs": [
    {
     "name": "stderr",
     "output_type": "stream",
     "text": [
      "d:\\Anaconda\\lib\\site-packages\\pysal\\lib\\weights\\util.py:17: UserWarning: Shapely 2.0 is installed, but because PyGEOS is also installed, GeoPandas will still use PyGEOS by default for now. To force to use and test Shapely 2.0, you have to set the environment variable USE_PYGEOS=0. You can do this before starting the Python process, or in your code before importing geopandas:\n",
      "\n",
      "import os\n",
      "os.environ['USE_PYGEOS'] = '0'\n",
      "import geopandas\n",
      "\n",
      "In a future release, GeoPandas will switch to using Shapely by default. If you are using PyGEOS directly (calling PyGEOS functions on geometries from GeoPandas), this will then stop working and you are encouraged to migrate from PyGEOS to Shapely 2.0 (https://shapely.readthedocs.io/en/latest/migration_pygeos.html).\n",
      "  import geopandas as gpd\n",
      "d:\\Anaconda\\lib\\site-packages\\pysal\\explore\\segregation\\network\\network.py:15: UserWarning: You need pandana and urbanaccess to work with segregation's network module\n",
      "You can install them with  `pip install urbanaccess pandana` or `conda install -c udst pandana urbanaccess`\n",
      "  warn(\n"
     ]
    },
    {
     "ename": "ModuleNotFoundError",
     "evalue": "No module named 'landprice_merger'",
     "output_type": "error",
     "traceback": [
      "\u001b[1;31m---------------------------------------------------------------------------\u001b[0m",
      "\u001b[1;31mModuleNotFoundError\u001b[0m                       Traceback (most recent call last)",
      "Cell \u001b[1;32mIn[2], line 17\u001b[0m\n\u001b[0;32m     13\u001b[0m \u001b[39mimport\u001b[39;00m \u001b[39mgeopandas\u001b[39;00m \u001b[39mas\u001b[39;00m \u001b[39mgpd\u001b[39;00m\n\u001b[0;32m     15\u001b[0m sys\u001b[39m.\u001b[39mpath\u001b[39m.\u001b[39minsert(\u001b[39m0\u001b[39m, \u001b[39m\"\u001b[39m\u001b[39m../src\u001b[39m\u001b[39m\"\u001b[39m)\n\u001b[1;32m---> 17\u001b[0m \u001b[39mfrom\u001b[39;00m \u001b[39mlandprice_merger\u001b[39;00m \u001b[39mimport\u001b[39;00m (\n\u001b[0;32m     18\u001b[0m     zensus_landprice_merger,\n\u001b[0;32m     19\u001b[0m     landprice_neighborhood_merger,\n\u001b[0;32m     20\u001b[0m     combine_landprice_with_geodata,\n\u001b[0;32m     21\u001b[0m )\n\u001b[0;32m     22\u001b[0m \u001b[39mfrom\u001b[39;00m \u001b[39mcsv_merger\u001b[39;00m \u001b[39mimport\u001b[39;00m combine_csvs\n\u001b[0;32m     23\u001b[0m \u001b[39mfrom\u001b[39;00m \u001b[39mprincipal_component_analysis\u001b[39;00m \u001b[39mimport\u001b[39;00m combine_PCA_datasets\n",
      "\u001b[1;31mModuleNotFoundError\u001b[0m: No module named 'landprice_merger'"
     ]
    }
   ],
   "source": [
    "from pysal.lib import weights\n",
    "from matplotlib import pyplot as plt\n",
    "\n",
    "import pandas as pd\n",
    "import geopandas as gpd\n",
    "import folium \n",
    "import segregation as seg\n",
    "\n",
    "import sys\n",
    "import os\n",
    "\n",
    "os.environ[\"USE_PYGEOS\"] = \"0\"\n",
    "import geopandas as gpd\n",
    "\n",
    "sys.path.insert(0, \"../src\")\n",
    "\n",
    "from landprice_merger import (\n",
    "    zensus_landprice_merger,\n",
    "    landprice_neighborhood_merger,\n",
    "    combine_landprice_with_geodata,\n",
    ")\n",
    "from csv_merger import combine_csvs\n",
    "from principal_component_analysis import combine_PCA_datasets\n"
   ]
  },
  {
   "cell_type": "code",
   "execution_count": null,
   "metadata": {},
   "outputs": [],
   "source": [
    "cities = [\"Berlin\", \"Bremen\", \"Dresden\", \"Frankfurt\", \"Köln\"]\n",
    "\n",
    "main_path = os.path.join(os.getcwd(), \"..\")\n",
    "\n",
    "path_zensus = os.path.join(main_path, \"res\", \"data\", \"DLR\", \"2 Zensus\")\n",
    "path_land = os.path.join(main_path, \"res\", \"data\", \"DLR\", \"1 Land Prices\")\n",
    "path_neigh = os.path.join(main_path, \"res\", \"data\", \"DLR\", \"3 Neighborhoods\")\n"
   ]
  },
  {
   "cell_type": "code",
   "execution_count": null,
   "metadata": {},
   "outputs": [],
   "source": [
    "df_zensus = combine_csvs(str_path=path_zensus)\n",
    "\n",
    "gdf_zensus = combine_PCA_datasets(\n",
    "    df_zensus=df_zensus, str_city=cities[0], str_path=path_zensus\n",
    ")\n"
   ]
  },
  {
   "cell_type": "code",
   "execution_count": null,
   "metadata": {},
   "outputs": [],
   "source": [
    "df_land_prices = combine_csvs(str_path=path_land)\n",
    "\n",
    "gdf_landprices = combine_landprice_with_geodata(\n",
    "    df_landprice=df_land_prices, str_city=cities[0], str_path=path_land\n",
    ")\n",
    "\n",
    "gdf_landprices_names = landprice_neighborhood_merger(\n",
    "    gdf_landprice=gdf_landprices, str_city=cities[0], str_path_neigh=path_neigh\n",
    ")\n"
   ]
  },
  {
   "cell_type": "code",
   "execution_count": null,
   "metadata": {},
   "outputs": [],
   "source": [
    "result = zensus_landprice_merger(\n",
    "    gdf_landprices=gdf_landprices_names, gdf_zensus=gdf_zensus\n",
    ")\n"
   ]
  },
  {
   "cell_type": "code",
   "execution_count": null,
   "metadata": {},
   "outputs": [
    {
     "data": {
      "text/plain": [
       "(96838, 92)"
      ]
     },
     "execution_count": 6,
     "metadata": {},
     "output_type": "execute_result"
    }
   ],
   "source": [
    "result.shape"
   ]
  },
  {
   "cell_type": "code",
   "execution_count": null,
   "metadata": {},
   "outputs": [
    {
     "data": {
      "text/plain": [
       "Index(['Grid_Code', 'City_Code', 'geometry', 'buildings_total_units',\n",
       "       'n_owned_without_current_household',\n",
       "       'n_rented_without_current_household', 'n_vacant',\n",
       "       'we_private_individuals', 'we_private_companies_legal_entities',\n",
       "       'we_public_companies', 'we_housing_cooperative', 'w_less_30', 'r_6',\n",
       "       'r_7_and_more', 'gs_other_building_with_living_space', 'j_1979_1995',\n",
       "       'j_1996_2008', 'j_2009_and_later', 'e_community_of_apartment_owners',\n",
       "       'e_private_housing_company', 'e_other_private_company',\n",
       "       'e_federal_or_state_government', 'e_nonprofit_organization',\n",
       "       'gt_semidetached_house', 'gt_other_type_of_building',\n",
       "       'gg_detached_single_family_house', 'gg_detached_twofamily',\n",
       "       'gg_twofamily_semidetached_house', 'gg_twofamily_terraced_house',\n",
       "       'gg_apartment_3_6', 'h_floor', 'h_stoves_night', 'h_no_heating',\n",
       "       'z_1_apart', 'z_2_apart', 'z_3_6_apart', 'City', 'families_total_units',\n",
       "       'famk_couple_children_more_18', 'famk_reg_partner_wout_child',\n",
       "       'famk_reg_partner_1_child_less_18', 'famk_reg_partner_children_more_18',\n",
       "       'famk_nonmarital_wout_child', 'famk_nonmarital_children_more_18',\n",
       "       'famk_fathers_1_child_less_18', 'famk_fathers_children_more_18',\n",
       "       'famk_mothers_children_more_18', 'famgr_5_pers', 'famgr_6_more',\n",
       "       'households_total_units', 'hhleb_registered_partner',\n",
       "       'hhleb_single_mothers', 'hhleb_single_fathers',\n",
       "       'hhleb_multipers_wout_nuclear', 'hhgr_6_more', 'population_total_units',\n",
       "       'al_80_over', 'fam_civil_partner_deceased',\n",
       "       'fam_civil_partner_dissolved', 'fam_unknown', 'geb_other', 'sh_bosnia',\n",
       "       'sh_greece', 'sh_italy', 'sh_kazakhstan', 'sh_croatia',\n",
       "       'sh_netherlands', 'sh_poland', 'sh_romania', 'sh_russia', 'sh_ukraine',\n",
       "       'sz_mult_foreign_only', 'sz_unknown', 'index_right', 'Neighborhood_FID',\n",
       "       'Land_Value', 'Area_Types', 'Area_Count', 'City_Name',\n",
       "       'AgriculturalArea', 'CommercialBuildingArea', 'Farmland',\n",
       "       'ForestryArea', 'GreenArea', 'IndustrialArea', 'MixedUseArea',\n",
       "       'OtherSpecialArea', 'Residential', 'SpecialUseArea', 'Village',\n",
       "       'Neighborhood_Name', 'District_Name'],\n",
       "      dtype='object')"
      ]
     },
     "execution_count": 7,
     "metadata": {},
     "output_type": "execute_result"
    }
   ],
   "source": [
    "result.columns"
   ]
  },
  {
   "cell_type": "code",
   "execution_count": null,
   "metadata": {},
   "outputs": [],
   "source": [
    "\n",
    "single_var_1 = \"n_rented_without_current_household\"\n",
    "single_var_2 = \"n_owned_without_current_household\"\n",
    "total_pop_var = \"buildings_total_units\"\n",
    "\n",
    "\n",
    "result[total_pop_var] = result[total_pop_var].astype(int) # do this in utils\n",
    "result[single_var_1] = result[single_var_1].astype(int)\n",
    "result[single_var_2] = result[single_var_2].astype(int)"
   ]
  },
  {
   "cell_type": "code",
   "execution_count": null,
   "metadata": {},
   "outputs": [
    {
     "name": "stdout",
     "output_type": "stream",
     "text": [
      "Interaction of owner category n_rented_without_current_household: 0.87 and Interaction of owner category n_owned_without_current_household: 0.88\n"
     ]
    }
   ],
   "source": [
    "\n",
    "# A-spatial segregation index     \n",
    "int1 = seg.singlegroup.Interaction(data = result, group_pop_var = single_var_1, total_pop_var = total_pop_var)\n",
    "int2 = seg.singlegroup.Interaction(data = result, group_pop_var = single_var_2, total_pop_var = total_pop_var)\n",
    "\n",
    "print(\"Interaction of owner category %s: %.2f and Interaction of owner category %s: %.2f\" %(single_var_1, int1.statistic, single_var_2, int2.statistic))\n"
   ]
  },
  {
   "cell_type": "code",
   "execution_count": null,
   "metadata": {},
   "outputs": [],
   "source": [
    "result_grouped = result.groupby([\"Grid_Code\", \"City_Code\"]).mean().reset_index()"
   ]
  },
  {
   "cell_type": "code",
   "execution_count": 3,
   "metadata": {},
   "outputs": [
    {
     "ename": "NameError",
     "evalue": "name 'result_grouped' is not defined",
     "output_type": "error",
     "traceback": [
      "\u001b[1;31m---------------------------------------------------------------------------\u001b[0m",
      "\u001b[1;31mNameError\u001b[0m                                 Traceback (most recent call last)",
      "Cell \u001b[1;32mIn[3], line 5\u001b[0m\n\u001b[0;32m      1\u001b[0m zensus_bremen_grid \u001b[39m=\u001b[39m gpd\u001b[39m.\u001b[39mread_file(\u001b[39m\"\u001b[39m\u001b[39mD:/ifo_hack/ifoHack_DLR_Challenge_Data/2 Zensus/Zensus_Berlin_Grid_100m.gpkg\u001b[39m\u001b[39m\"\u001b[39m)\n\u001b[0;32m      3\u001b[0m idx_column \u001b[39m=\u001b[39m \u001b[39m\"\u001b[39m\u001b[39mGrid_Code\u001b[39m\u001b[39m\"\u001b[39m\n\u001b[1;32m----> 5\u001b[0m result_grouped \u001b[39m=\u001b[39m result_grouped\u001b[39m.\u001b[39mmerge(zensus_bremen_grid, on \u001b[39m=\u001b[39m [\u001b[39m\"\u001b[39m\u001b[39mGrid_Code\u001b[39m\u001b[39m\"\u001b[39m, \u001b[39m\"\u001b[39m\u001b[39mCity_Code\u001b[39m\u001b[39m\"\u001b[39m])\n",
      "\u001b[1;31mNameError\u001b[0m: name 'result_grouped' is not defined"
     ]
    }
   ],
   "source": [
    "zensus_bremen_grid = gpd.read_file(\"D:/ifo_hack/ifoHack_DLR_Challenge_Data/2 Zensus/Zensus_Berlin_Grid_100m.gpkg\")\n",
    "\n",
    "idx_column = \"Grid_Code\"\n",
    "\n",
    "result_grouped = result_grouped.merge(zensus_bremen_grid, on = [\"Grid_Code\", \"City_Code\"])"
   ]
  },
  {
   "cell_type": "code",
   "execution_count": null,
   "metadata": {},
   "outputs": [
    {
     "ename": "NameError",
     "evalue": "name 'gpd' is not defined",
     "output_type": "error",
     "traceback": [
      "\u001b[1;31m---------------------------------------------------------------------------\u001b[0m",
      "\u001b[1;31mNameError\u001b[0m                                 Traceback (most recent call last)",
      "Cell \u001b[1;32mIn[1], line 1\u001b[0m\n\u001b[1;32m----> 1\u001b[0m gdf \u001b[39m=\u001b[39m gpd\u001b[39m.\u001b[39mGeoDataFrame(\n\u001b[0;32m      2\u001b[0m     result_grouped, geometry \u001b[39m=\u001b[39m result_grouped[\u001b[39m\"\u001b[39m\u001b[39mgeometry\u001b[39m\u001b[39m\"\u001b[39m])\n\u001b[0;32m      4\u001b[0m wr \u001b[39m=\u001b[39m weights\u001b[39m.\u001b[39mcontiguity\u001b[39m.\u001b[39mQueen\u001b[39m.\u001b[39mfrom_dataframe(gdf, geom_col \u001b[39m=\u001b[39m \u001b[39m\"\u001b[39m\u001b[39mgeometry\u001b[39m\u001b[39m\"\u001b[39m, ids \u001b[39m=\u001b[39m idx_column)    \n\u001b[0;32m      5\u001b[0m result_copy \u001b[39m=\u001b[39m gdf[\u001b[39m~\u001b[39mgdf[idx_column]\u001b[39m.\u001b[39misin(wr\u001b[39m.\u001b[39mislands)]\u001b[39m.\u001b[39mcopy()\n",
      "\u001b[1;31mNameError\u001b[0m: name 'gpd' is not defined"
     ]
    }
   ],
   "source": [
    "gdf = gpd.GeoDataFrame(\n",
    "    result_grouped, geometry = result_grouped[\"geometry\"])\n",
    "\n",
    "wr = weights.contiguity.Queen.from_dataframe(gdf, geom_col = \"geometry\", ids = idx_column)    \n",
    "result_copy = gdf[~gdf[idx_column].isin(wr.islands)].copy()\n"
   ]
  },
  {
   "cell_type": "code",
   "execution_count": null,
   "metadata": {},
   "outputs": [],
   "source": [
    "m = gdf.explore(height = 500, width = 1000, color = \"gray\", name = \"Zensus Grid Cells 100mx100m\")\n",
    "m = result_copy.explore(m = m, color = \"blue\", name = \"Zensus Grid Cells (filtered)\")"
   ]
  },
  {
   "cell_type": "code",
   "execution_count": 27,
   "metadata": {},
   "outputs": [],
   "source": [
    "folium.LayerControl().add_to(m)\n",
    "m"
   ]
  },
  {
   "cell_type": "code",
   "execution_count": null,
   "metadata": {},
   "outputs": [
    {
     "ename": "ValueError",
     "evalue": "group_pop_var and total_pop_var columns must be present on the dataframe",
     "output_type": "error",
     "traceback": [
      "\u001b[1;31m---------------------------------------------------------------------------\u001b[0m",
      "\u001b[1;31mValueError\u001b[0m                                Traceback (most recent call last)",
      "Cell \u001b[1;32mIn[11], line 1\u001b[0m\n\u001b[1;32m----> 1\u001b[0m dint1 \u001b[39m=\u001b[39m seg\u001b[39m.\u001b[39;49msinglegroup\u001b[39m.\u001b[39;49mDistanceDecayInteraction(data \u001b[39m=\u001b[39;49m zensus_bremen_grid_copy, group_pop_var \u001b[39m=\u001b[39;49m single_var_1, total_pop_var \u001b[39m=\u001b[39;49m total_pop_var)\n\u001b[0;32m      2\u001b[0m dint2 \u001b[39m=\u001b[39m seg\u001b[39m.\u001b[39msinglegroup\u001b[39m.\u001b[39mDistanceDecayInteraction(data \u001b[39m=\u001b[39m zensus_bremen_grid_copy, group_pop_var \u001b[39m=\u001b[39m single_var_2, total_pop_var \u001b[39m=\u001b[39m total_pop_var)\n\u001b[0;32m      4\u001b[0m \u001b[39mprint\u001b[39m(\u001b[39m\"\u001b[39m\u001b[39mInteraction (spatial) of age category \u001b[39m\u001b[39m%s\u001b[39;00m\u001b[39m: \u001b[39m\u001b[39m%.2f\u001b[39;00m\u001b[39m and Interaction (spatial) of age category \u001b[39m\u001b[39m%s\u001b[39;00m\u001b[39m: \u001b[39m\u001b[39m%.2f\u001b[39;00m\u001b[39m\"\u001b[39m \u001b[39m%\u001b[39m(single_var_1, dint1\u001b[39m.\u001b[39mstatistic, \n\u001b[0;32m      5\u001b[0m                                                                                                             single_var_2, dint2\u001b[39m.\u001b[39mstatistic))\n",
      "File \u001b[1;32md:\\Anaconda\\lib\\site-packages\\segregation\\singlegroup\\dx_interaction.py:118\u001b[0m, in \u001b[0;36mDistanceDecayInteraction.__init__\u001b[1;34m(self, data, group_pop_var, total_pop_var, alpha, beta, **kwargs)\u001b[0m\n\u001b[0;32m    114\u001b[0m \u001b[39mdef\u001b[39;00m \u001b[39m__init__\u001b[39m(\n\u001b[0;32m    115\u001b[0m     \u001b[39mself\u001b[39m, data, group_pop_var, total_pop_var, alpha\u001b[39m=\u001b[39m\u001b[39m0.6\u001b[39m, beta\u001b[39m=\u001b[39m\u001b[39m0.5\u001b[39m, \u001b[39m*\u001b[39m\u001b[39m*\u001b[39mkwargs,\n\u001b[0;32m    116\u001b[0m ):\n\u001b[0;32m    117\u001b[0m \u001b[39m    \u001b[39m\u001b[39m\"\"\"Init.\"\"\"\u001b[39;00m\n\u001b[1;32m--> 118\u001b[0m     SingleGroupIndex\u001b[39m.\u001b[39;49m\u001b[39m__init__\u001b[39;49m(\u001b[39mself\u001b[39;49m, data, group_pop_var, total_pop_var)\n\u001b[0;32m    119\u001b[0m     SpatialExplicitIndex\u001b[39m.\u001b[39m\u001b[39m__init__\u001b[39m(\u001b[39mself\u001b[39m,)\n\u001b[0;32m    120\u001b[0m     \u001b[39mself\u001b[39m\u001b[39m.\u001b[39malpha \u001b[39m=\u001b[39m alpha\n",
      "File \u001b[1;32md:\\Anaconda\\lib\\site-packages\\segregation\\_base.py:113\u001b[0m, in \u001b[0;36mSingleGroupIndex.__init__\u001b[1;34m(self, data, group_pop_var, total_pop_var)\u001b[0m\n\u001b[0;32m    110\u001b[0m     \u001b[39mraise\u001b[39;00m \u001b[39mTypeError\u001b[39;00m(\u001b[39m\"\u001b[39m\u001b[39mgroup_pop_var and total_pop_var must be strings\u001b[39m\u001b[39m\"\u001b[39m)\n\u001b[0;32m    112\u001b[0m \u001b[39mif\u001b[39;00m \u001b[39many\u001b[39m([group_pop_var \u001b[39mnot\u001b[39;00m \u001b[39min\u001b[39;00m data\u001b[39m.\u001b[39mcolumns, total_pop_var \u001b[39mnot\u001b[39;00m \u001b[39min\u001b[39;00m data\u001b[39m.\u001b[39mcolumns]):\n\u001b[1;32m--> 113\u001b[0m     \u001b[39mraise\u001b[39;00m \u001b[39mValueError\u001b[39;00m(\n\u001b[0;32m    114\u001b[0m         \u001b[39m\"\u001b[39m\u001b[39mgroup_pop_var and total_pop_var columns must be present on the dataframe\u001b[39m\u001b[39m\"\u001b[39m\n\u001b[0;32m    115\u001b[0m     )\n\u001b[0;32m    117\u001b[0m \u001b[39mif\u001b[39;00m \u001b[39many\u001b[39m(data[total_pop_var] \u001b[39m<\u001b[39m data[group_pop_var]):\n\u001b[0;32m    118\u001b[0m     \u001b[39mraise\u001b[39;00m \u001b[39mValueError\u001b[39;00m(\n\u001b[0;32m    119\u001b[0m         \u001b[39m\"\u001b[39m\u001b[39mGroup of interest population must equal or lower than the total population of the units.\u001b[39m\u001b[39m\"\u001b[39m\n\u001b[0;32m    120\u001b[0m     )\n",
      "\u001b[1;31mValueError\u001b[0m: group_pop_var and total_pop_var columns must be present on the dataframe"
     ]
    }
   ],
   "source": [
    "dint1 = seg.singlegroup.DistanceDecayInteraction(data = result_copy, group_pop_var = single_var_1, total_pop_var = total_pop_var)\n",
    "dint2 = seg.singlegroup.DistanceDecayInteraction(data = result_copy, group_pop_var = single_var_2, total_pop_var = total_pop_var)\n",
    "    \n",
    "print(\"Interaction (spatial) of age category %s: %.2f and Interaction (spatial) of age category %s: %.2f\" %(single_var_1, dint1.statistic, \n",
    "                                                                                                            single_var_2, dint2.statistic))\n",
    "\n",
    "result_copy[single_var_1 + \"_perc\"] = [x * 100 / y if y != 0 else 0 for (x,y) in zip(result_copy[single_var_1], result_copy[total_pop_var])]\n",
    " \n",
    "m = result_copy.explore(height=500, width=1000, name=\"Seniors > 65yo\",\n",
    "                             column = single_var_1 + \"_perc\", scheme = \"EqualInterval\", cmap = \"inferno\", legend = True)\n",
    "\n",
    "\n",
    "folium.LayerControl().add_to(m)\n",
    "m"
   ]
  },
  {
   "cell_type": "code",
   "execution_count": null,
   "metadata": {},
   "outputs": [],
   "source": []
  },
  {
   "cell_type": "code",
   "execution_count": null,
   "metadata": {},
   "outputs": [],
   "source": []
  }
 ],
 "metadata": {
  "kernelspec": {
   "display_name": "Python 3",
   "language": "python",
   "name": "python3"
  },
  "language_info": {
   "codemirror_mode": {
    "name": "ipython",
    "version": 3
   },
   "file_extension": ".py",
   "mimetype": "text/x-python",
   "name": "python",
   "nbconvert_exporter": "python",
   "pygments_lexer": "ipython3",
   "version": "3.10.10"
  },
  "orig_nbformat": 4
 },
 "nbformat": 4,
 "nbformat_minor": 2
}
