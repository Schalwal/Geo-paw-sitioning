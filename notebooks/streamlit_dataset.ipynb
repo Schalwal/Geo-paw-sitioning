{
 "cells": [
  {
   "cell_type": "code",
   "execution_count": 3,
   "metadata": {},
   "outputs": [],
   "source": [
    "from pysal.lib import weights\n",
    "from matplotlib import pyplot as plt\n",
    "\n",
    "import pandas as pd\n",
    "import geopandas as gpd\n",
    "import folium\n",
    "import segregation as seg\n",
    "\n",
    "import sys\n",
    "import os\n",
    "\n",
    "os.environ[\"USE_PYGEOS\"] = \"0\"\n",
    "import geopandas as gpd\n",
    "\n",
    "sys.path.insert(0, \"../src\")\n",
    "\n",
    "from landprice_merger import (\n",
    "    zensus_landprice_merger,\n",
    "    landprice_neighborhood_merger,\n",
    "    combine_landprice_with_geodata,\n",
    ")\n",
    "from csv_merger import combine_csvs\n",
    "from principal_component_analysis import combine_PCA_datasets\n"
   ]
  },
  {
   "cell_type": "code",
   "execution_count": 4,
   "metadata": {},
   "outputs": [],
   "source": [
    "cities = [\"Berlin\", \"Bremen\", \"Dresden\", \"Frankfurt_am_Main\", \"Köln\"]\n",
    "\n",
    "main_path = os.path.join(os.getcwd(), \"..\")\n",
    "\n",
    "path_zensus = os.path.join(main_path, \"res\", \"data\", \"DLR\", \"2 Zensus\")\n",
    "path_land = os.path.join(main_path, \"res\", \"data\", \"DLR\", \"1 Land Prices\")\n",
    "path_neigh = os.path.join(main_path, \"res\", \"data\", \"DLR\", \"3 Neighborhoods\")\n"
   ]
  },
  {
   "cell_type": "code",
   "execution_count": 5,
   "metadata": {},
   "outputs": [],
   "source": [
    "df_zensus = combine_csvs(str_path=path_zensus)\n",
    "\n",
    "gdf_zensus = combine_PCA_datasets(\n",
    "    df_zensus=df_zensus, str_city=cities[0], str_path=path_zensus\n",
    ")\n"
   ]
  },
  {
   "cell_type": "code",
   "execution_count": 6,
   "metadata": {},
   "outputs": [],
   "source": [
    "df_land_prices = combine_csvs(str_path=path_land)\n",
    "\n",
    "gdf_landprices = combine_landprice_with_geodata(\n",
    "    df_landprice=df_land_prices, str_city=cities[0], str_path=path_land\n",
    ")\n",
    "\n",
    "gdf_landprices_names = landprice_neighborhood_merger(\n",
    "    gdf_landprice=gdf_landprices, str_city=cities[0], str_path_neigh=path_neigh\n",
    ")\n"
   ]
  },
  {
   "cell_type": "code",
   "execution_count": 7,
   "metadata": {},
   "outputs": [],
   "source": [
    "result = zensus_landprice_merger(\n",
    "    gdf_landprices=gdf_landprices_names, gdf_zensus=gdf_zensus\n",
    ")\n"
   ]
  },
  {
   "cell_type": "code",
   "execution_count": 99,
   "metadata": {},
   "outputs": [
    {
     "data": {
      "text/plain": [
       "(96838, 90)"
      ]
     },
     "execution_count": 99,
     "metadata": {},
     "output_type": "execute_result"
    }
   ],
   "source": [
    "result.shape\n"
   ]
  },
  {
   "cell_type": "code",
   "execution_count": 73,
   "metadata": {},
   "outputs": [],
   "source": [
    "out_path = \"../res/data/Berlin_streamlit.csv\"\n",
    "result.to_csv(out_path)\n"
   ]
  },
  {
   "cell_type": "code",
   "execution_count": 96,
   "metadata": {},
   "outputs": [
    {
     "data": {
      "text/plain": [
       "count    96838.000000\n",
       "mean         0.414218\n",
       "std          1.291762\n",
       "min          0.000000\n",
       "25%          0.000000\n",
       "50%          0.000000\n",
       "75%          0.000000\n",
       "max         29.000000\n",
       "Name: r_7_and_more, dtype: float64"
      ]
     },
     "execution_count": 96,
     "metadata": {},
     "output_type": "execute_result"
    }
   ],
   "source": [
    "result.r_7_and_more.describe()\n"
   ]
  },
  {
   "cell_type": "code",
   "execution_count": 21,
   "metadata": {},
   "outputs": [
    {
     "data": {
      "text/plain": [
       "Index(['Grid_Code', 'City_Code', 'geometry', 'families_total_units',\n",
       "       'famk_couple_children_more_18', 'famk_reg_partner_wout_child',\n",
       "       'famk_reg_partner_1_child_less_18', 'famk_reg_partner_children_more_18',\n",
       "       'famk_nonmarital_wout_child', 'famk_nonmarital_children_more_18',\n",
       "       'famk_fathers_1_child_less_18', 'famk_fathers_children_more_18',\n",
       "       'famk_mothers_children_more_18', 'famgr_5_pers', 'famgr_6_more', 'City',\n",
       "       'population_total_units', 'al_80_over', 'fam_civil_partner_deceased',\n",
       "       'fam_civil_partner_dissolved', 'fam_unknown', 'geb_other', 'sh_bosnia',\n",
       "       'sh_greece', 'sh_italy', 'sh_kazakhstan', 'sh_croatia',\n",
       "       'sh_netherlands', 'sh_poland', 'sh_romania', 'sh_russia', 'sh_ukraine',\n",
       "       'sz_mult_foreign_only', 'sz_unknown', 'buildings_total_units',\n",
       "       'n_owned_without_current_household',\n",
       "       'n_rented_without_current_household', 'n_vacant',\n",
       "       'we_private_individuals', 'we_private_companies_legal_entities',\n",
       "       'we_public_companies', 'we_housing_cooperative', 'w_less_30', 'r_6',\n",
       "       'r_7_and_more', 'gs_other_building_with_living_space', 'j_1979_1995',\n",
       "       'j_1996_2008', 'j_2009_and_later', 'e_community_of_apartment_owners',\n",
       "       'e_private_housing_company', 'e_other_private_company',\n",
       "       'e_federal_or_state_government', 'e_nonprofit_organization',\n",
       "       'gt_semidetached_house', 'gt_other_type_of_building',\n",
       "       'gg_detached_single_family_house', 'gg_detached_twofamily',\n",
       "       'gg_twofamily_semidetached_house', 'gg_twofamily_terraced_house',\n",
       "       'gg_apartment_3_6', 'h_floor', 'h_stoves_night', 'h_no_heating',\n",
       "       'z_1_apart', 'z_2_apart', 'z_3_6_apart', 'households_total_units',\n",
       "       'hhtyp_multiplepers_wout_nuclear', 'hhleb_registered_partner',\n",
       "       'hhleb_single_mothers', 'hhleb_single_fathers', 'hhgr_6_more',\n",
       "       'index_right', 'Neighborhood_FID', 'Land_Value', 'Area_Count',\n",
       "       'City_Name', 'AgriculturalArea', 'CommercialBuildingArea', 'Farmland',\n",
       "       'ForestryArea', 'GreenArea', 'IndustrialArea', 'MixedUseArea',\n",
       "       'OtherSpecialArea', 'Residential', 'SpecialUseArea', 'Village',\n",
       "       'Neighborhood_Name'],\n",
       "      dtype='object')"
      ]
     },
     "execution_count": 21,
     "metadata": {},
     "output_type": "execute_result"
    }
   ],
   "source": [
    "result.columns\n"
   ]
  },
  {
   "cell_type": "code",
   "execution_count": 100,
   "metadata": {},
   "outputs": [],
   "source": [
    "artificial = result.copy()\n",
    "artificial = artificial[\n",
    "    [\n",
    "        \"Grid_Code\",\n",
    "        \"City_Code\",\n",
    "        \"geometry\",\n",
    "        \"families_total_units\",\n",
    "        \"we_housing_cooperative\",\n",
    "        \"population_total_units\",\n",
    "        \"buildings_total_units\",\n",
    "        \"Land_Value\",\n",
    "        \"City_Name\",\n",
    "        \"CommercialBuildingArea\",\n",
    "        \"MixedUseArea\",\n",
    "        \"Residential\",\n",
    "        \"SpecialUseArea\",\n",
    "        \"Neighborhood_Name\",\n",
    "    ]\n",
    "]\n"
   ]
  },
  {
   "cell_type": "code",
   "execution_count": 101,
   "metadata": {},
   "outputs": [
    {
     "data": {
      "text/html": [
       "<div>\n",
       "<style scoped>\n",
       "    .dataframe tbody tr th:only-of-type {\n",
       "        vertical-align: middle;\n",
       "    }\n",
       "\n",
       "    .dataframe tbody tr th {\n",
       "        vertical-align: top;\n",
       "    }\n",
       "\n",
       "    .dataframe thead th {\n",
       "        text-align: right;\n",
       "    }\n",
       "</style>\n",
       "<table border=\"1\" class=\"dataframe\">\n",
       "  <thead>\n",
       "    <tr style=\"text-align: right;\">\n",
       "      <th></th>\n",
       "      <th>Grid_Code</th>\n",
       "      <th>City_Code</th>\n",
       "      <th>geometry</th>\n",
       "      <th>families_total_units</th>\n",
       "      <th>we_housing_cooperative</th>\n",
       "      <th>population_total_units</th>\n",
       "      <th>buildings_total_units</th>\n",
       "      <th>Land_Value</th>\n",
       "      <th>City_Name</th>\n",
       "      <th>CommercialBuildingArea</th>\n",
       "      <th>MixedUseArea</th>\n",
       "      <th>Residential</th>\n",
       "      <th>SpecialUseArea</th>\n",
       "      <th>Neighborhood_Name</th>\n",
       "    </tr>\n",
       "  </thead>\n",
       "  <tbody>\n",
       "    <tr>\n",
       "      <th>0</th>\n",
       "      <td>100mN32539E45693</td>\n",
       "      <td>11000000</td>\n",
       "      <td>POLYGON ((4569300.000 3253900.000, 4569300.000...</td>\n",
       "      <td>0.0</td>\n",
       "      <td>0.0</td>\n",
       "      <td>0.0</td>\n",
       "      <td>0.0</td>\n",
       "      <td>469.8</td>\n",
       "      <td>Berlin</td>\n",
       "      <td>0</td>\n",
       "      <td>0</td>\n",
       "      <td>1</td>\n",
       "      <td>0</td>\n",
       "      <td>Schmöckwitz</td>\n",
       "    </tr>\n",
       "    <tr>\n",
       "      <th>1</th>\n",
       "      <td>100mN32539E45694</td>\n",
       "      <td>11000000</td>\n",
       "      <td>POLYGON ((4569400.000 3253900.000, 4569400.000...</td>\n",
       "      <td>0.0</td>\n",
       "      <td>0.0</td>\n",
       "      <td>0.0</td>\n",
       "      <td>0.0</td>\n",
       "      <td>469.8</td>\n",
       "      <td>Berlin</td>\n",
       "      <td>0</td>\n",
       "      <td>0</td>\n",
       "      <td>1</td>\n",
       "      <td>0</td>\n",
       "      <td>Schmöckwitz</td>\n",
       "    </tr>\n",
       "    <tr>\n",
       "      <th>2</th>\n",
       "      <td>100mN32539E45695</td>\n",
       "      <td>11000000</td>\n",
       "      <td>POLYGON ((4569500.000 3253900.000, 4569500.000...</td>\n",
       "      <td>0.0</td>\n",
       "      <td>0.0</td>\n",
       "      <td>0.0</td>\n",
       "      <td>0.0</td>\n",
       "      <td>469.8</td>\n",
       "      <td>Berlin</td>\n",
       "      <td>0</td>\n",
       "      <td>0</td>\n",
       "      <td>1</td>\n",
       "      <td>0</td>\n",
       "      <td>Schmöckwitz</td>\n",
       "    </tr>\n",
       "    <tr>\n",
       "      <th>3</th>\n",
       "      <td>100mN32539E45696</td>\n",
       "      <td>11000000</td>\n",
       "      <td>POLYGON ((4569600.000 3253900.000, 4569600.000...</td>\n",
       "      <td>0.0</td>\n",
       "      <td>0.0</td>\n",
       "      <td>0.0</td>\n",
       "      <td>0.0</td>\n",
       "      <td>469.8</td>\n",
       "      <td>Berlin</td>\n",
       "      <td>0</td>\n",
       "      <td>0</td>\n",
       "      <td>1</td>\n",
       "      <td>0</td>\n",
       "      <td>Schmöckwitz</td>\n",
       "    </tr>\n",
       "    <tr>\n",
       "      <th>4</th>\n",
       "      <td>100mN32540E45692</td>\n",
       "      <td>11000000</td>\n",
       "      <td>POLYGON ((4569200.000 3254000.000, 4569200.000...</td>\n",
       "      <td>0.0</td>\n",
       "      <td>0.0</td>\n",
       "      <td>0.0</td>\n",
       "      <td>0.0</td>\n",
       "      <td>469.8</td>\n",
       "      <td>Berlin</td>\n",
       "      <td>0</td>\n",
       "      <td>0</td>\n",
       "      <td>1</td>\n",
       "      <td>0</td>\n",
       "      <td>Schmöckwitz</td>\n",
       "    </tr>\n",
       "  </tbody>\n",
       "</table>\n",
       "</div>"
      ],
      "text/plain": [
       "          Grid_Code City_Code   \n",
       "0  100mN32539E45693  11000000  \\\n",
       "1  100mN32539E45694  11000000   \n",
       "2  100mN32539E45695  11000000   \n",
       "3  100mN32539E45696  11000000   \n",
       "4  100mN32540E45692  11000000   \n",
       "\n",
       "                                            geometry  families_total_units   \n",
       "0  POLYGON ((4569300.000 3253900.000, 4569300.000...                   0.0  \\\n",
       "1  POLYGON ((4569400.000 3253900.000, 4569400.000...                   0.0   \n",
       "2  POLYGON ((4569500.000 3253900.000, 4569500.000...                   0.0   \n",
       "3  POLYGON ((4569600.000 3253900.000, 4569600.000...                   0.0   \n",
       "4  POLYGON ((4569200.000 3254000.000, 4569200.000...                   0.0   \n",
       "\n",
       "   we_housing_cooperative  population_total_units  buildings_total_units   \n",
       "0                     0.0                     0.0                    0.0  \\\n",
       "1                     0.0                     0.0                    0.0   \n",
       "2                     0.0                     0.0                    0.0   \n",
       "3                     0.0                     0.0                    0.0   \n",
       "4                     0.0                     0.0                    0.0   \n",
       "\n",
       "   Land_Value City_Name  CommercialBuildingArea  MixedUseArea  Residential   \n",
       "0       469.8    Berlin                       0             0            1  \\\n",
       "1       469.8    Berlin                       0             0            1   \n",
       "2       469.8    Berlin                       0             0            1   \n",
       "3       469.8    Berlin                       0             0            1   \n",
       "4       469.8    Berlin                       0             0            1   \n",
       "\n",
       "   SpecialUseArea Neighborhood_Name  \n",
       "0               0       Schmöckwitz  \n",
       "1               0       Schmöckwitz  \n",
       "2               0       Schmöckwitz  \n",
       "3               0       Schmöckwitz  \n",
       "4               0       Schmöckwitz  "
      ]
     },
     "execution_count": 101,
     "metadata": {},
     "output_type": "execute_result"
    }
   ],
   "source": [
    "artificial.head()\n"
   ]
  },
  {
   "cell_type": "code",
   "execution_count": 102,
   "metadata": {},
   "outputs": [
    {
     "data": {
      "text/plain": [
       "count        96838\n",
       "unique          96\n",
       "top       Köpenick\n",
       "freq          3693\n",
       "Name: Neighborhood_Name, dtype: object"
      ]
     },
     "execution_count": 102,
     "metadata": {},
     "output_type": "execute_result"
    }
   ],
   "source": [
    "artificial.Neighborhood_Name.describe()\n"
   ]
  },
  {
   "cell_type": "code",
   "execution_count": 111,
   "metadata": {},
   "outputs": [
    {
     "data": {
      "text/plain": [
       "<Axes: >"
      ]
     },
     "execution_count": 111,
     "metadata": {},
     "output_type": "execute_result"
    },
    {
     "data": {
      "image/png": "[encoded data removed]",
      "text/plain": [
       "<Figure size 640x480 with 2 Axes>"
      ]
     },
     "metadata": {},
     "output_type": "display_data"
    }
   ],
   "source": [
    "result[result.Neighborhood_Name == \"Pankow\"].plot(\n",
    "    column=\"Land_Value\", cmap=\"hot\", legend=True\n",
    ")\n"
   ]
  }
 ],
 "metadata": {
  "kernelspec": {
   "display_name": "ifohack_gps",
   "language": "python",
   "name": "python3"
  },
  "language_info": {
   "codemirror_mode": {
    "name": "ipython",
    "version": 3
   },
   "file_extension": ".py",
   "mimetype": "text/x-python",
   "name": "python",
   "nbconvert_exporter": "python",
   "pygments_lexer": "ipython3",
   "version": "3.10.10"
  },
  "orig_nbformat": 4
 },
 "nbformat": 4,
 "nbformat_minor": 2
}
